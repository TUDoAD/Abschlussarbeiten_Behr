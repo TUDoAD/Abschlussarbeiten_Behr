{
 "cells": [
  {
   "cell_type": "markdown",
   "id": "24f257e3",
   "metadata": {},
   "source": [
    "In following the"
   ]
  },
  {
   "cell_type": "code",
   "execution_count": 1,
   "id": "e5b463d6",
   "metadata": {},
   "outputs": [
    {
     "name": "stderr",
     "output_type": "stream",
     "text": [
      "\n",
      "Warning: SQLite3 version 3.40.0 and 3.41.2 have huge performance regressions; please install version 3.41.1 or 3.42!\n",
      "\n"
     ]
    }
   ],
   "source": [
    "import pandas as pd\n",
    "from queries import *"
   ]
  },
  {
   "cell_type": "code",
   "execution_count": 2,
   "id": "0eb69e9c",
   "metadata": {
    "scrolled": false
   },
   "outputs": [
    {
     "name": "stderr",
     "output_type": "stream",
     "text": [
      "* Owlready2 * WARNING: DataProperty http://xmlns.com/foaf/0.1/name belongs to more than one entity types: [owl.AnnotationProperty, owl.DatatypeProperty]; I'm trying to fix it...\n",
      "* Owlready2 * Running HermiT...\n",
      "    java -Xmx2000M -cp C:\\Users\\chern\\anaconda3\\envs\\catnew\\lib\\site-packages\\owlready2\\hermit;C:\\Users\\chern\\anaconda3\\envs\\catnew\\lib\\site-packages\\owlready2\\hermit\\HermiT.jar org.semanticweb.HermiT.cli.CommandLine -c -O -D -I file:///C:/Users/chern/AppData/Local/Temp/tmphqqcq6ov\n",
      "* Owlready2 * HermiT took 94.66345763206482 seconds\n",
      "* Owlready * (NB: only changes on entities loaded in Python are shown, other changes are done but not listed)\n"
     ]
    },
    {
     "name": "stdout",
     "output_type": "stream",
     "text": [
      "The afo_upd1 ontology is consist of following publications:\n"
     ]
    },
    {
     "data": {
      "text/html": [
       "<div>\n",
       "<style scoped>\n",
       "    .dataframe tbody tr th:only-of-type {\n",
       "        vertical-align: middle;\n",
       "    }\n",
       "\n",
       "    .dataframe tbody tr th {\n",
       "        vertical-align: top;\n",
       "    }\n",
       "\n",
       "    .dataframe thead th {\n",
       "        text-align: right;\n",
       "    }\n",
       "</style>\n",
       "<table border=\"1\" class=\"dataframe\">\n",
       "  <thead>\n",
       "    <tr style=\"text-align: right;\">\n",
       "      <th></th>\n",
       "      <th>DOI</th>\n",
       "      <th>Title</th>\n",
       "    </tr>\n",
       "  </thead>\n",
       "  <tbody>\n",
       "    <tr>\n",
       "      <th>0</th>\n",
       "      <td>10.1016/0304-5102(93)87113-m</td>\n",
       "      <td>Vapour phase propene hydroformylation catalyze...</td>\n",
       "    </tr>\n",
       "    <tr>\n",
       "      <th>1</th>\n",
       "      <td>10.1021/acscatal.1c02014.s001</td>\n",
       "      <td>Activity Promotion of Rh8xCoxP4 Bimetallic Pho...</td>\n",
       "    </tr>\n",
       "    <tr>\n",
       "      <th>2</th>\n",
       "      <td>10.1021/jacs.1c09665.s001</td>\n",
       "      <td>Intermetallic Nanocatalyst for Highly Active H...</td>\n",
       "    </tr>\n",
       "    <tr>\n",
       "      <th>3</th>\n",
       "      <td>10.1016/s0920-5861(00)00261-3</td>\n",
       "      <td>Ethylene hydroformylation and carbon monoxide ...</td>\n",
       "    </tr>\n",
       "    <tr>\n",
       "      <th>4</th>\n",
       "      <td>10.1016/j.apcata.2013.10.019</td>\n",
       "      <td>Experimental investigation of ethylene hydrofo...</td>\n",
       "    </tr>\n",
       "    <tr>\n",
       "      <th>5</th>\n",
       "      <td>10.1016/s1381-1169(97)00035-6</td>\n",
       "      <td>Formation of bimetallic RhCo3 clusters from mo...</td>\n",
       "    </tr>\n",
       "    <tr>\n",
       "      <th>6</th>\n",
       "      <td>10.1021/acs.iecr.9b03598.s001</td>\n",
       "      <td>Heterogeneous Ligand-Free Rhodium Oxide Cataly...</td>\n",
       "    </tr>\n",
       "    <tr>\n",
       "      <th>7</th>\n",
       "      <td>10.1021/acsami.0c21749.s001</td>\n",
       "      <td>Effectively Regulating the Microenvironment of...</td>\n",
       "    </tr>\n",
       "    <tr>\n",
       "      <th>8</th>\n",
       "      <td>10.1021/acsanm.1c02194.s001</td>\n",
       "      <td>Rh2P Nanoparticles Stabilized by Carbon Patche...</td>\n",
       "    </tr>\n",
       "    <tr>\n",
       "      <th>9</th>\n",
       "      <td>10.1021/acscatal.0c04684.s001</td>\n",
       "      <td>Promotion of Inorganic Phosphorus on Rh Cataly...</td>\n",
       "    </tr>\n",
       "    <tr>\n",
       "      <th>10</th>\n",
       "      <td>10.1021/jacs.2c11075.s001</td>\n",
       "      <td>Ethene Hydroformylation Catalyzed by Rhodium D...</td>\n",
       "    </tr>\n",
       "    <tr>\n",
       "      <th>11</th>\n",
       "      <td>10.1021/acscatal.7b00499.s001</td>\n",
       "      <td>Platinum Group Metal Phosphides as Heterogeneo...</td>\n",
       "    </tr>\n",
       "    <tr>\n",
       "      <th>12</th>\n",
       "      <td>10.1021/acscatal.1c04359</td>\n",
       "      <td>Comparison of Heterogeneous Hydroformylation o...</td>\n",
       "    </tr>\n",
       "    <tr>\n",
       "      <th>13</th>\n",
       "      <td>10.1016/1381-1169(96)00243-9</td>\n",
       "      <td>Highly selective vapor phase propene hydroform...</td>\n",
       "    </tr>\n",
       "  </tbody>\n",
       "</table>\n",
       "</div>"
      ],
      "text/plain": [
       "                              DOI  \\\n",
       "0    10.1016/0304-5102(93)87113-m   \n",
       "1   10.1021/acscatal.1c02014.s001   \n",
       "2       10.1021/jacs.1c09665.s001   \n",
       "3   10.1016/s0920-5861(00)00261-3   \n",
       "4    10.1016/j.apcata.2013.10.019   \n",
       "5   10.1016/s1381-1169(97)00035-6   \n",
       "6   10.1021/acs.iecr.9b03598.s001   \n",
       "7     10.1021/acsami.0c21749.s001   \n",
       "8     10.1021/acsanm.1c02194.s001   \n",
       "9   10.1021/acscatal.0c04684.s001   \n",
       "10      10.1021/jacs.2c11075.s001   \n",
       "11  10.1021/acscatal.7b00499.s001   \n",
       "12       10.1021/acscatal.1c04359   \n",
       "13   10.1016/1381-1169(96)00243-9   \n",
       "\n",
       "                                                Title  \n",
       "0   Vapour phase propene hydroformylation catalyze...  \n",
       "1   Activity Promotion of Rh8xCoxP4 Bimetallic Pho...  \n",
       "2   Intermetallic Nanocatalyst for Highly Active H...  \n",
       "3   Ethylene hydroformylation and carbon monoxide ...  \n",
       "4   Experimental investigation of ethylene hydrofo...  \n",
       "5   Formation of bimetallic RhCo3 clusters from mo...  \n",
       "6   Heterogeneous Ligand-Free Rhodium Oxide Cataly...  \n",
       "7   Effectively Regulating the Microenvironment of...  \n",
       "8   Rh2P Nanoparticles Stabilized by Carbon Patche...  \n",
       "9   Promotion of Inorganic Phosphorus on Rh Cataly...  \n",
       "10  Ethene Hydroformylation Catalyzed by Rhodium D...  \n",
       "11  Platinum Group Metal Phosphides as Heterogeneo...  \n",
       "12  Comparison of Heterogeneous Hydroformylation o...  \n",
       "13  Highly selective vapor phase propene hydroform...  "
      ]
     },
     "execution_count": 2,
     "metadata": {},
     "output_type": "execute_result"
    }
   ],
   "source": [
    "#load the ontology from \"./ontologies/\" and perform reasoning\n",
    "onto_name= \"afo_upd1\" #input name of the ontology\n",
    "\n",
    "#perform reasoning, get dois from publications in the extended ontology\n",
    "onto_pub_list,onto,df=reasoning_dois_onto(onto_name)\n",
    "\n",
    "pd.set_option('display.max_rows', None)\n",
    "pd.set_option('display.max_columns', None)\n",
    "pd.set_option('display.width', None)\n",
    "pd.set_option('display.max_colwidth', None)\n",
    " \n",
    "display(df)\n",
    "\n",
    "pd.reset_option('all')"
   ]
  },
  {
   "cell_type": "markdown",
   "id": "2e8b6797",
   "metadata": {},
   "source": [
    "define doi if only publications similar to specific publication in ontology should be queried from scopus\\\n",
    "if all publications in ontology should be used for query define the variable as:\\\n",
    "`doi = None`"
   ]
  },
  {
   "cell_type": "code",
   "execution_count": null,
   "id": "6877ea8a",
   "metadata": {},
   "outputs": [],
   "source": [
    "doi = r'10.1016/0304-5102(93)87113-m' "
   ]
  },
  {
   "cell_type": "markdown",
   "id": "cddceda8",
   "metadata": {},
   "source": [
    "Following cells represent possible queries for reactions\n",
    "\n",
    "- get list of all reactions for corresponding doi or from all publications if doi=None"
   ]
  },
  {
   "cell_type": "code",
   "execution_count": 8,
   "id": "3d3fdfae",
   "metadata": {
    "scrolled": true
   },
   "outputs": [
    {
     "name": "stdout",
     "output_type": "stream",
     "text": [
      "[]\n"
     ]
    }
   ],
   "source": [
    "list_reac_doi = get_reaction(reac=None,doi=doi) \n",
    "reac_all = [*set([i[0].lower() for i in list_reac_doi])]\n",
    "print(reac_all)"
   ]
  },
  {
   "cell_type": "markdown",
   "id": "660cf5a2",
   "metadata": {},
   "source": [
    "- get the list of all publications in ontology where same reactions as in input publication were mentioned"
   ]
  },
  {
   "cell_type": "code",
   "execution_count": 10,
   "id": "f03d0f44",
   "metadata": {},
   "outputs": [
    {
     "name": "stdout",
     "output_type": "stream",
     "text": [
      "[['hydroformylation'], ['atmospheric hydroformylation']]\n",
      "[['10.1016/0304-5102(93)87113-m'], ['10.1021/acscatal.1c02014.s001'], ['10.1021/acscatal.1c04359'], ['10.1021/acscatal.7b00499.s001'], ['10.1021/jacs.1c09665.s001'], ['10.1016/s0920-5861(00)00261-3'], ['10.1016/j.apcata.2013.10.019'], ['10.1016/s1381-1169(97)00035-6'], ['10.1021/acs.iecr.9b03598.s001'], ['10.1021/acsami.0c21749.s001'], ['10.1021/acscatal.0c04684.s001'], ['10.1021/jacs.2c11075.s001']]\n"
     ]
    }
   ],
   "source": [
    "list_reac_doi = get_reaction(reac = None,doi = doi) #get list of all reactions mentioned in given doi (doi should be part \n",
    "                                                    #of ontology)\n",
    "same_reac_doi = []\n",
    "for i in list_reac_doi:\n",
    "    reac_doi = get_reaction(reac = i[0],doi = None)\n",
    "    for c in reac_doi:\n",
    "        if c not in same_reac_doi and c[0] != doi:\n",
    "            same_reac_doi.append(c)     #output example: [['10.1016/0304-5102(93)87113-m'],['10.1016/1381-1169(96)00243-9']]\n",
    "\n",
    "print(list_reac_doi)\n",
    "print(same_reac_doi)"
   ]
  },
  {
   "cell_type": "markdown",
   "id": "b247feec",
   "metadata": {},
   "source": [
    "- get the list of publications, that mention the specific reaction"
   ]
  },
  {
   "cell_type": "code",
   "execution_count": 11,
   "id": "4a66f63a",
   "metadata": {},
   "outputs": [
    {
     "name": "stdout",
     "output_type": "stream",
     "text": [
      "[['10.1016/0304-5102(93)87113-m'], ['10.1021/acscatal.1c02014.s001'], ['10.1021/acscatal.1c04359'], ['10.1021/acscatal.7b00499.s001'], ['10.1021/jacs.1c09665.s001'], ['10.1016/1381-1169(96)00243-9'], ['10.1016/s0920-5861(00)00261-3'], ['10.1016/j.apcata.2013.10.019'], ['10.1016/s1381-1169(97)00035-6'], ['10.1021/acs.iecr.9b03598.s001'], ['10.1021/acsami.0c21749.s001'], ['10.1021/acscatal.0c04684.s001'], ['10.1021/jacs.2c11075.s001']]\n"
     ]
    }
   ],
   "source": [
    "list_reac_doi = get_reaction(reac=reac,doi=None)  #output example: [['10.1016/0304-5102(93)87113-m'],['10.1016/1381-1169(96)00243-9']]\n",
    "print(list_reac_doi)"
   ]
  },
  {
   "cell_type": "markdown",
   "id": "5bff719a",
   "metadata": {},
   "source": [
    "- get list of all publications which mention the specific reaction and reactions which have this specific reaction as part of their label"
   ]
  },
  {
   "cell_type": "code",
   "execution_count": 12,
   "id": "2f1a239e",
   "metadata": {},
   "outputs": [
    {
     "name": "stdout",
     "output_type": "stream",
     "text": [
      "[['hydroformylation', '10.1016/0304-5102(93)87113-m'], ['hydroformylation', '10.1021/acscatal.1c02014.s001'], ['hydroformylation', '10.1021/acscatal.1c04359'], ['hydroformylation', '10.1021/acscatal.7b00499.s001'], ['hydroformylation', '10.1021/jacs.1c09665.s001'], ['hydroformylation', '10.1016/1381-1169(96)00243-9'], ['hydroformylation', '10.1016/s0920-5861(00)00261-3'], ['hydroformylation', '10.1016/j.apcata.2013.10.019'], ['hydroformylation', '10.1016/s1381-1169(97)00035-6'], ['hydroformylation', '10.1021/acs.iecr.9b03598.s001'], ['hydroformylation', '10.1021/acsami.0c21749.s001'], ['hydroformylation', '10.1021/acscatal.0c04684.s001'], ['hydroformylation', '10.1021/jacs.2c11075.s001'], ['atmospheric hydroformylation', '10.1016/1381-1169(96)00243-9'], ['heterogeneous hydroformylation', '10.1021/acscatal.1c04359'], ['Hydroformylation', '10.1021/jacs.1c09665.s001']]\n"
     ]
    }
   ],
   "source": [
    "reac=\"hydroformylation\" #specify a reaction\n",
    "\n",
    "list_reac_doi = get_reaction(reac=\"hydroformylation\",doi=None, include_all=True)\n",
    "print(list_reac_doi)"
   ]
  },
  {
   "cell_type": "markdown",
   "id": "19bae051",
   "metadata": {},
   "source": [
    "With following code the retrieval if all reactants, products, support materials, catalysts is performed, which are mentioned in one specific publication or from all publication in extended ontology (if doi=None) \n",
    "with `get_synonyms` all possible synonyms of chemical entities will be retrieved.\\\n",
    "For example from \"rhodium atom \" class, synonyms such as \"Rh\", \"rhodium\", \"45Rh\" are retrieved"
   ]
  },
  {
   "cell_type": "code",
   "execution_count": 98,
   "id": "359ae7e6",
   "metadata": {
    "collapsed": true
   },
   "outputs": [
    {
     "name": "stdout",
     "output_type": "stream",
     "text": [
      "    \n",
      "    PREFIX rdf: <http://www.w3.org/1999/02/22-rdf-syntax-ns#>\n",
      "    PREFIX owl: <http://www.w3.org/2002/07/owl#>\n",
      "    PREFIX rdfs: <http://www.w3.org/2000/01/rdf-schema#>\n",
      "    PREFIX xsd: <http://www.w3.org/2001/XMLSchema#>\n",
      "    PREFIX obo: <http://purl.obolibrary.org/obo/>\n",
      "    PREFIX afo: <http://purl.allotrope.org/voc/afo/merged/REC/2023/03/merged-without-qudt-and-inferred#>\n",
      "    PREFIX role: <http://purl.allotrope.org/ontologies/role#>\n",
      "    PREFIX new:  <http://www.semanticweb.org/chern/ontologies/2023/10/new_onto.owl#>\n",
      "    SELECT ?support_e ?support ?catalyst\n",
      "        WHERE{\n",
      "                            ?catalyst_full rdf:type ?type.\n",
      "                            ?type rdfs:subClassOf* ?chem_substance.\n",
      "                            ?chem_substance rdfs:label 'chemical substance'.\n",
      "                            ?catalyst_full rdfs:label ?catalyst.\n",
      "                            ?support_e afo:support_component_of ?catalyst_full.\n",
      "                            ?support_e rdfs:label ?support.\n",
      "                            \n",
      "        \t?support_e afo:mentioned_in ?mention.\n",
      "            ?mention afo:has_doi \"10.1016/0304-5102(93)87113-m\".}\n",
      "\n",
      "    PREFIX rdf: <http://www.w3.org/1999/02/22-rdf-syntax-ns#>\n",
      "    PREFIX owl: <http://www.w3.org/2002/07/owl#>\n",
      "    PREFIX rdfs: <http://www.w3.org/2000/01/rdf-schema#>\n",
      "    PREFIX xsd: <http://www.w3.org/2001/XMLSchema#>\n",
      "    PREFIX obo: <http://purl.obolibrary.org/obo/>\n",
      "    PREFIX afo: <http://purl.allotrope.org/voc/afo/merged/REC/2023/03/merged-without-qudt-and-inferred#>\n",
      "    PREFIX role: <http://purl.allotrope.org/ontologies/role#>\n",
      "    PREFIX new:  <http://www.semanticweb.org/chern/ontologies/2023/10/new_onto.owl#>\n",
      "    \n",
      "    SELECT ?catalyst_e ?catalyst \n",
      "    WHERE{\n",
      "        {\n",
      "        \t\t?catalyst_e rdf:type owl:NamedIndividual.\n",
      "\t\t        ?catalyst_e rdf:type ?type.\n",
      "        \t\t?type rdfs:subClassOf* role:AFRL_0000217.\n",
      "                ?catalyst_e rdfs:label ?catalyst.\n",
      "        }\n",
      "        UNION\n",
      "    \t{\n",
      "        \t\t?catalyst_full rdf:type owl:NamedIndividual.\n",
      "        \t \t?catalyst_full rdf:type ?type1.\n",
      "        \t\t?type1 rdfs:subClassOf* ?chem_substance.\n",
      "                ?chem_substance rdfs:label 'chemical substance'.\n",
      "                ?catalyst_e afo:catalytic_component_of ?catalyst_full.\t\n",
      "                ?catalyst_e rdfs:label ?catalyst.\n",
      "\n",
      "                \n",
      "                \n",
      "        }\n",
      "    \n",
      "            UNION\n",
      "                 {\n",
      "                    ?catalyst_e  rdf:type owl:NamedIndividual.\n",
      "                    ?catalyst_e obo:RO_0000087 ?cat_role.\n",
      "                    ?cat_role rdfs:label \"catalyst role\".\n",
      "                    ?catalyst_e rdfs:label ?catalyst.\n",
      "\n",
      "                    \n",
      "                             FILTER NOT EXISTS {\n",
      "\n",
      "                            ?catalyst_chem rdf:type ?type3.\n",
      "                            ?type3 rdfs:subClassOf* ?chem_substance.\n",
      "                            ?chem_substance rdfs:label 'chemical substance'.\n",
      "                            ?catalyst_e rdf:type ?chem_substance    \n",
      "                              }      \n",
      "                     }\n",
      "                 \n",
      "        \t?catalyst_e afo:mentioned_in ?mention.\n",
      "            ?mention afo:has_doi \"10.1016/0304-5102(93)87113-m\".}\n",
      "PREFIX rdf: <http://www.w3.org/1999/02/22-rdf-syntax-ns#>\n",
      "    PREFIX owl: <http://www.w3.org/2002/07/owl#>\n",
      "    PREFIX xsd: <http://www.w3.org/2001/XMLSchema#>\n",
      "    PREFIX rdfs: <http://www.w3.org/2000/01/rdf-schema#>\n",
      "    PREFIX obo: <http://purl.obolibrary.org/obo/>\n",
      "    PREFIX afo: <http://purl.allotrope.org/voc/afo/merged/REC/2023/03/merged-without-qudt-and-inferred#>\n",
      "    PREFIX new:  <http://www.semanticweb.org/chern/ontologies/2023/10/new_onto.owl#>\n",
      "     SELECT ?ent_e ?ent\n",
      "        WHERE{\n",
      "                ?ent_e rdf:type owl:NamedIndividual.\n",
      "                ?entRole rdf:type owl:NamedIndividual.\n",
      "                ?entRole rdfs:label \"reactant role\".\n",
      "                ?ent_e obo:RO_0000087 ?entRole.\n",
      "                ?ent_e rdfs:label ?ent.\n",
      "            ?ent_e afo:mentioned_in ?mention.\n",
      "            ?mention afo:has_doi\"10.1016/0304-5102(93)87113-m\".}\n",
      "PREFIX rdf: <http://www.w3.org/1999/02/22-rdf-syntax-ns#>\n",
      "    PREFIX owl: <http://www.w3.org/2002/07/owl#>\n",
      "    PREFIX xsd: <http://www.w3.org/2001/XMLSchema#>\n",
      "    PREFIX rdfs: <http://www.w3.org/2000/01/rdf-schema#>\n",
      "    PREFIX obo: <http://purl.obolibrary.org/obo/>\n",
      "    PREFIX afo: <http://purl.allotrope.org/voc/afo/merged/REC/2023/03/merged-without-qudt-and-inferred#>\n",
      "    PREFIX new:  <http://www.semanticweb.org/chern/ontologies/2023/10/new_onto.owl#>\n",
      "     SELECT ?ent_e ?ent\n",
      "        WHERE{\n",
      "                ?ent_e rdf:type owl:NamedIndividual.\n",
      "                ?entRole rdf:type owl:NamedIndividual.\n",
      "                ?entRole rdfs:label \"product role\".\n",
      "                ?ent_e obo:RO_0000087 ?entRole.\n",
      "                ?ent_e rdfs:label ?ent.\n",
      "            ?ent_e afo:mentioned_in ?mention.\n",
      "            ?mention afo:has_doi\"10.1016/0304-5102(93)87113-m\".}\n"
     ]
    }
   ],
   "source": [
    "\n",
    "sup_list=get_support(sup=None,doi=doi)\n",
    "_,sup_all=get_synonyms(support_list,is_cat=False)\n",
    "\n",
    "cat_list=get_catalyst(cat=None,doi=doi,include_all=True)\n",
    "_,cat_all=get_synonyms(cat_list,is_cat=True)\n",
    "\n",
    "reactant_list=get_entList('reactant',entity= None,doi=doi)\n",
    "reactant_all,_=get_synonyms(reactant_list,is_cat=False)\n",
    "\n",
    "product_list=get_entList('product',entity= None,doi=doi)\n",
    "product_all,_=get_synonyms(product_list,is_cat=False)\n"
   ]
  },
  {
   "cell_type": "markdown",
   "id": "5671fef0",
   "metadata": {},
   "source": [
    "Perform a search in scopus using collected information from ontology\\\n",
    "Queries have following structure: 'TITLE-ABS-KEY(\"reaction\"AND\"catalyst\"AND\"support material\"AND\"reactant\"AND\"product\")' in all possible combinations"
   ]
  },
  {
   "cell_type": "code",
   "execution_count": 9,
   "id": "073bc1a6",
   "metadata": {},
   "outputs": [],
   "source": [
    "df_all=scopus_seach_process(doi, onto_pub_list)"
   ]
  },
  {
   "cell_type": "markdown",
   "id": "ab8ef1bd",
   "metadata": {},
   "source": [
    "All distinct results are saved in sheet 'distinct_eid'.\\\n",
    "Filter found publication according to the start and end date\\\n",
    "If no filtering nessesary define `start_date` as follows:\\\n",
    "`get_synonyms = None`"
   ]
  },
  {
   "cell_type": "code",
   "execution_count": 112,
   "id": "27ff9212",
   "metadata": {},
   "outputs": [],
   "source": [
    "start_date = '2019-01-01'\n",
    "end_date = '2023-12-31' \n",
    "\n",
    "distinct_df, filtered_df, filtered_df_doi, filtered_df_doi_new = filter_date(start_date,end_date, df_all,onto_pub_list)"
   ]
  },
  {
   "cell_type": "markdown",
   "id": "cb390145",
   "metadata": {},
   "source": [
    "save from scopus quieried publication information in Excel"
   ]
  },
  {
   "cell_type": "code",
   "execution_count": 113,
   "id": "5c7059d8",
   "metadata": {},
   "outputs": [],
   "source": [
    "output_path='./output/output.xlsx' #define the output path\n",
    "\n",
    "save_in_excel(output_path, df_all, distinct_df, filtered_df, filtered_df_doi, filtered_df_doi_new )"
   ]
  }
 ],
 "metadata": {
  "kernelspec": {
   "display_name": "Python 3 (ipykernel)",
   "language": "python",
   "name": "python3"
  },
  "language_info": {
   "codemirror_mode": {
    "name": "ipython",
    "version": 3
   },
   "file_extension": ".py",
   "mimetype": "text/x-python",
   "name": "python",
   "nbconvert_exporter": "python",
   "pygments_lexer": "ipython3",
   "version": "3.8.16"
  }
 },
 "nbformat": 4,
 "nbformat_minor": 5
}
