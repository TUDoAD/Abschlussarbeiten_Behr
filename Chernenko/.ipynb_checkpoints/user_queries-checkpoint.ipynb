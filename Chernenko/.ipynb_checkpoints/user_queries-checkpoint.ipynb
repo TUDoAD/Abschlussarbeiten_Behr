{
 "cells": [
  {
   "cell_type": "code",
   "execution_count": 1,
   "id": "e5b463d6",
   "metadata": {
    "scrolled": true
   },
   "outputs": [],
   "source": [
    "import pandas as pd\n",
    "from queries import *"
   ]
  },
  {
   "cell_type": "code",
   "execution_count": null,
   "id": "0eb69e9c",
   "metadata": {
    "scrolled": false
   },
   "outputs": [
    {
     "name": "stderr",
     "output_type": "stream",
     "text": [
      "* Owlready2 * WARNING: DataProperty http://xmlns.com/foaf/0.1/name belongs to more than one entity types: [owl.AnnotationProperty, owl.DatatypeProperty]; I'm trying to fix it...\n",
      "* Owlready2 * Running HermiT...\n",
      "    java -Xmx2000M -cp C:\\Users\\chern\\anaconda3\\envs\\catalysis\\lib\\site-packages\\owlready2\\hermit;C:\\Users\\chern\\anaconda3\\envs\\catalysis\\lib\\site-packages\\owlready2\\hermit\\HermiT.jar org.semanticweb.HermiT.cli.CommandLine -c -O -D -I file:///C:/Users/chern/AppData/Local/Temp/tmp5u_rv1y6\n"
     ]
    }
   ],
   "source": [
    "#load the ontology from \"./ontologies/\" and perform reasoning\n",
    "onto_name= \"afo_dataset_1-m\" #input name of the ontology\n",
    "\n",
    "#perform reasoning, get dois from publications in the extended ontology\n",
    "onto_pub_list,onto,df=reasoning_dois_onto(onto_name)\n",
    "\n",
    "pd.set_option('display.max_rows', None)\n",
    "pd.set_option('display.max_columns', None)\n",
    "pd.set_option('display.width', None)\n",
    "pd.set_option('display.max_colwidth', None)\n",
    " \n",
    "display(df)\n"
   ]
  },
  {
   "cell_type": "markdown",
   "id": "2e8b6797",
   "metadata": {},
   "source": [
    "define DOI if only publications similar to specific publication in ontology should be queried from scopus\\\n",
    "if all publications in ontology should be used for query define the variable as:\\\n",
    "`doi = None`"
   ]
  },
  {
   "cell_type": "code",
   "execution_count": 3,
   "id": "6877ea8a",
   "metadata": {},
   "outputs": [],
   "source": [
    "doi = r'10.1021/acscatal.1c04359' "
   ]
  },
  {
   "cell_type": "markdown",
   "id": "134f2893",
   "metadata": {},
   "source": [
    "Retrieve an abstract of the specific publication in the ontology given the DOI of the publication "
   ]
  },
  {
   "cell_type": "code",
   "execution_count": 4,
   "id": "619531a9",
   "metadata": {},
   "outputs": [
    {
     "name": "stdout",
     "output_type": "stream",
     "text": [
      "Abstract: The reaction mechanisms of heterogeneous hydro- formylation of ethylene and propylene were compared at 413−453 K using RhCo3/MCM-41 as catalysts. The reaction rates of propylene for both hydroformylation and the undesired side reaction of hydrogenation were found to be about one order of magnitude lower than those for ethylene in ﬂow reactor studies. The diﬀerence in the kinetic behavior between ethylene and propylene was investigated by measuring the reaction orders and apparent activation energies, and these macrokinetic observables were analyzed using the degree of rate control (DRC) method. In situ diﬀuse reﬂectance infrared Fourier transform spectroscopy (DRIFTS) experiments were performed to characterize the surface intermediates formed during the reactions. When the reactant was changed from ethylene to propylene, the IR peak corresponding to adsorbed CO exhibited a signiﬁcant increase, while the IR peaks of the alkyl group decreased in magnitude. Combined with the DRIFTS results, DRC analysis indicates that the ﬁrst step of oleﬁn hydroformylation, the formation of an alkyl group on the catalyst surface, plays a key role in the diﬀerence between ethylene and propylene. This step is kinetically nonrelevant when ethylene is the reactant, but it is one of the rate-controlling steps for propylene. The low concentration of the adsorbed propyl group, which is a common intermediate shared by both hydroformylation and hydrogenation of propylene, decreases the rates of both reaction pathways as compared to ethylene. KEYWORDS: hydroformylation, ethylene, propylene, kinetics, degree of rate control\n"
     ]
    }
   ],
   "source": [
    "doi_1=r'10.1021/acscatal.1c04359'\n",
    "abstract=get_abstr(doi_1)"
   ]
  },
  {
   "cell_type": "markdown",
   "id": "cddceda8",
   "metadata": {},
   "source": [
    "Following cells represent possible queries for reactions\n",
    "\n",
    "- get list of all reactions for corresponding doi or from all publications if doi=None"
   ]
  },
  {
   "cell_type": "code",
   "execution_count": 5,
   "id": "3d3fdfae",
   "metadata": {
    "scrolled": true
   },
   "outputs": [
    {
     "name": "stdout",
     "output_type": "stream",
     "text": [
      "['heterogeneous hydroformylation', 'hydroformylation', 'hydrogenation']\n"
     ]
    }
   ],
   "source": [
    "list_reac_doi,_ = get_reaction(reac=None,doi=doi,include_all=False) #doi=None (if from all publications)\n",
    "reac_all = [*set([i[0].lower() for i in list_reac_doi])]\n",
    "print(reac_all)"
   ]
  },
  {
   "cell_type": "markdown",
   "id": "660cf5a2",
   "metadata": {},
   "source": [
    "- get the list of all publications in ontology where same reactions as in input publication were mentioned"
   ]
  },
  {
   "cell_type": "code",
   "execution_count": 6,
   "id": "f03d0f44",
   "metadata": {},
   "outputs": [
    {
     "name": "stdout",
     "output_type": "stream",
     "text": [
      "[['hydroformylation'], ['hydrogenation'], ['heterogeneous hydroformylation']]\n",
      "[['10.1021/acscatal.1c02014.s001'], ['10.1021/acscatal.0c04684.s001'], ['10.1021/acscatal.1c00705.s002'], ['10.1021/acscatal.7b00499.s001'], ['10.1021/acscatal.9b02111.s001'], ['10.1021/jacs.1c09665.s001'], ['10.1016/j.apcata.2018.02.019'], ['10.1021/jacs.2c11075.s001'], ['10.1016/0304-5102(93)87113-m'], ['10.1016/1381-1169(96)00243-9'], ['10.1016/s0920-5861(00)00261-3'], ['10.1016/j.apcata.2013.10.019'], ['10.1016/s1381-1169(97)00035-6'], ['10.1021/acs.iecr.0c03437.s001'], ['10.1021/acs.iecr.9b03598.s001'], ['10.1021/acsami.0c21749.s001']]\n"
     ]
    }
   ],
   "source": [
    "list_reac_doi,_ = get_reaction(reac = None,doi = doi) #get list of all reactions mentioned in given doi (doi should be part of ontology)\n",
    "same_reac_doi = []\n",
    "for i in list_reac_doi:\n",
    "    reac_doi,_ = get_reaction(reac = i[0],doi = None)\n",
    "    for c in reac_doi:\n",
    "        if c not in same_reac_doi and c[0] != doi:\n",
    "            same_reac_doi.append(c)     #output example: [['10.1016/0304-5102(93)87113-m'],['10.1016/1381-1169(96)00243-9']]\n",
    "\n",
    "print(list_reac_doi)\n",
    "print(same_reac_doi)"
   ]
  },
  {
   "cell_type": "markdown",
   "id": "b247feec",
   "metadata": {},
   "source": [
    "- get the list of publications, that mention the specific reaction"
   ]
  },
  {
   "cell_type": "code",
   "execution_count": null,
   "id": "4a66f63a",
   "metadata": {},
   "outputs": [],
   "source": [
    "reac=\"hydrogenation\"\n",
    "list_reac_doi,_ = get_reaction(reac=reac,doi=None)  #output example: [['10.1016/0304-5102(93)87113-m'],['10.1016/1381-1169(96)00243-9']]\n",
    "print(list_reac_doi)"
   ]
  },
  {
   "cell_type": "markdown",
   "id": "5bff719a",
   "metadata": {},
   "source": [
    "- get list of all publications which mention the specific reaction and reactions which have this specific reaction as part of their label"
   ]
  },
  {
   "cell_type": "code",
   "execution_count": null,
   "id": "2f1a239e",
   "metadata": {},
   "outputs": [],
   "source": [
    "reac=\"hydroformylation\" #specify a reaction\n",
    "\n",
    "list_reac_doi, df_reac = get_reaction(reac=\"hydroformylation\",doi=None, include_all=True)\n",
    "\n",
    "display(df_reac)"
   ]
  },
  {
   "cell_type": "markdown",
   "id": "584c0039",
   "metadata": {},
   "source": [
    "- get list of all entities mentioned in specific publication"
   ]
  },
  {
   "cell_type": "code",
   "execution_count": null,
   "id": "83553328",
   "metadata": {},
   "outputs": [],
   "source": [
    "list_ent=get_entList(list_type='all',entity= None,doi=doi)\n",
    "print([i[1] for i in list_ent])"
   ]
  },
  {
   "cell_type": "markdown",
   "id": "8035c227",
   "metadata": {},
   "source": [
    "- get list of all extracted entities from publications in knowledge graph"
   ]
  },
  {
   "cell_type": "code",
   "execution_count": null,
   "id": "b73264cd",
   "metadata": {},
   "outputs": [],
   "source": [
    "list_ent=[i[1] for i in get_entList(list_type='all',entity= None,doi=None)]\n",
    "list_distinct=[]\n",
    "for i in list_ent:\n",
    "    if i not in list_distinct:\n",
    "        list_distinct.append(i)\n",
    "print(list_distinct)"
   ]
  },
  {
   "cell_type": "markdown",
   "id": "19bae051",
   "metadata": {},
   "source": [
    "With following code the retrieval if all reactants, products, support materials, catalysts is performed, which are mentioned in one specific publication or from all publication in extended ontology (if doi=None) \n",
    "with `get_synonyms` all possible synonyms of chemical entities will be retrieved.\\\n",
    "For example from \"rhodium atom \" class, synonyms such as \"Rh\", \"rhodium\", \"45Rh\" are retrieved"
   ]
  },
  {
   "cell_type": "code",
   "execution_count": 7,
   "id": "359ae7e6",
   "metadata": {
    "scrolled": true
   },
   "outputs": [
    {
     "name": "stdout",
     "output_type": "stream",
     "text": [
      "all queried synonyms of support:\n",
      "[['MCM-41']]\n",
      "\n",
      "all queried synonyms of catalytic components:\n",
      "[['RhCo', 'RhCo3', 'CoRh', 'cobalt;rhodium']]\n",
      "\n",
      "all queried synonyms of reactants:\n",
      "['ethene (molecule)', 'ethylene', 'ethene', 'Ethylene', 'methylethylene', 'Propene', '1-propylene', 'prop-1-ene', '1-propene', 'methylethene', 'propylene', 'propene', 'CH2=CH-CH3', 'R-1270']\n",
      "\n",
      "all queried synonyms of products:\n",
      "[]\n",
      "\n",
      "all queried catalyst entities:\n",
      "[['RhCo3/MCM-41', 'RhCo3 supported on MCM-41']]\n"
     ]
    }
   ],
   "source": [
    "sup_list=get_support(sup=None,doi=doi)\n",
    "_,sup_all=get_synonyms(sup_list)\n",
    "print('all queried synonyms of support:')\n",
    "print(list(sup_all.values()))\n",
    "\n",
    "cat_list=get_catalyst(cat=None,doi=doi,include_all=True)\n",
    "_,cat_all=get_synonyms(cat_list)\n",
    "print('\\nall queried synonyms of catalytic components:')\n",
    "print(list(cat_all.values()))\n",
    "\n",
    "reactant_list=get_entList('reactant',entity= None,doi=doi)\n",
    "reactant_all,_=get_synonyms(reactant_list)\n",
    "print('\\nall queried synonyms of reactants:')\n",
    "print(reactant_all)\n",
    "\n",
    "product_list=get_entList('product',entity= None,doi=doi)\n",
    "product_all,_=get_synonyms(product_list)\n",
    "print('\\nall queried synonyms of products:')\n",
    "print(product_all)\n",
    "\n",
    "cat_list_full=get_catalyst_full(doi = doi)\n",
    "_,cat_full_all=get_synonyms(cat_list_full)\n",
    "print('\\nall queried catalyst entities:')\n",
    "print(list(cat_full_all.values()))"
   ]
  },
  {
   "cell_type": "code",
   "execution_count": null,
   "id": "459d7636",
   "metadata": {},
   "outputs": [],
   "source": [
    "sup_list=get_support(sup=None,doi=doi)\n",
    "_,sup_all=get_synonyms(sup_list)\n",
    "print('all queried synonyms of support:')\n",
    "print(list(sup_all.values()))"
   ]
  },
  {
   "cell_type": "code",
   "execution_count": null,
   "id": "835734b5",
   "metadata": {},
   "outputs": [],
   "source": [
    "sup_list"
   ]
  },
  {
   "cell_type": "code",
   "execution_count": null,
   "id": "45a4f16d",
   "metadata": {},
   "outputs": [],
   "source": [
    "sup_list=get_support(sup=None,doi=doi,only_doi= False)\n",
    "sup_cat=[]\n",
    "for i in range(len(sup_list)):\n",
    "    sup_cat.append([sup_list[i][1],sup_list[i][2]])\n",
    "print(sup_cat)"
   ]
  },
  {
   "cell_type": "markdown",
   "id": "5671fef0",
   "metadata": {},
   "source": [
    "Perform a search in scopus using collected information from ontology\\\n",
    "Queries have following structure: 'TITLE-ABS-KEY(\"reaction\"AND\"catalyst\"AND\"support material\"AND\"reactant\"AND\"product\")' in all possible combinations"
   ]
  },
  {
   "cell_type": "code",
   "execution_count": null,
   "id": "073bc1a6",
   "metadata": {},
   "outputs": [],
   "source": [
    "doi=None\n",
    "df_all=scopus_seach_process(doi, onto_pub_list)"
   ]
  },
  {
   "cell_type": "markdown",
   "id": "ab8ef1bd",
   "metadata": {},
   "source": [
    "All distinct results are saved in sheet 'distinct_eid'.\\\n",
    "Filter found publication according to the start and end date\\\n",
    "If no filtering nessesary define `start_date` as follows:\\\n",
    "`get_synonyms = None`"
   ]
  },
  {
   "cell_type": "code",
   "execution_count": null,
   "id": "27ff9212",
   "metadata": {},
   "outputs": [],
   "source": [
    "start_date = '2019-01-01'\n",
    "end_date = '2023-12-31' \n",
    "\n",
    "distinct_df, filtered_df, filtered_df_doi, filtered_df_doi_new = filter_date(start_date,end_date, df_all,onto_pub_list)"
   ]
  },
  {
   "cell_type": "markdown",
   "id": "cb390145",
   "metadata": {},
   "source": [
    "save from scopus quieried publication information in Excel"
   ]
  },
  {
   "cell_type": "code",
   "execution_count": null,
   "id": "5c7059d8",
   "metadata": {},
   "outputs": [],
   "source": [
    "output_path='./output/output.xlsx' #define the output path\n",
    "\n",
    "save_in_excel(output_path, df_all, distinct_df, filtered_df, filtered_df_doi, filtered_df_doi_new )"
   ]
  }
 ],
 "metadata": {
  "kernelspec": {
   "display_name": "Python 3 (ipykernel)",
   "language": "python",
   "name": "python3"
  },
  "language_info": {
   "codemirror_mode": {
    "name": "ipython",
    "version": 3
   },
   "file_extension": ".py",
   "mimetype": "text/x-python",
   "name": "python",
   "nbconvert_exporter": "python",
   "pygments_lexer": "ipython3",
   "version": "3.7.1"
  }
 },
 "nbformat": 4,
 "nbformat_minor": 5
}
