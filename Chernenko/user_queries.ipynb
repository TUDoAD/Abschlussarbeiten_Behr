{
 "cells": [
  {
   "cell_type": "code",
   "execution_count": 1,
   "id": "e5b463d6",
   "metadata": {
    "scrolled": true
   },
   "outputs": [
    {
     "name": "stderr",
     "output_type": "stream",
     "text": [
      "C:\\Users\\chern\\anaconda3\\envs\\catalysis\\lib\\site-packages\\thinc\\neural\\train.py:7: DeprecationWarning: Using or importing the ABCs from 'collections' instead of from 'collections.abc' is deprecated, and in 3.8 it will stop working\n",
      "  from .optimizers import Adam, linear_decay\n",
      "C:\\Users\\chern\\anaconda3\\envs\\catalysis\\lib\\site-packages\\thinc\\check.py:4: DeprecationWarning: Using or importing the ABCs from 'collections' instead of from 'collections.abc' is deprecated, and in 3.8 it will stop working\n",
      "  from collections import Sequence, Sized, Iterable, Callable\n",
      "C:\\Users\\chern\\anaconda3\\envs\\catalysis\\lib\\site-packages\\plac_ext.py:6: DeprecationWarning: the imp module is deprecated in favour of importlib; see the module's documentation for alternative uses\n",
      "  import imp\n",
      "C:\\Users\\chern\\anaconda3\\envs\\catalysis\\lib\\site-packages\\tqdm\\auto.py:21: TqdmWarning: IProgress not found. Please update jupyter and ipywidgets. See https://ipywidgets.readthedocs.io/en/stable/user_install.html\n",
      "  from .autonotebook import tqdm as notebook_tqdm\n"
     ]
    }
   ],
   "source": [
    "import pandas as pd\n",
    "from queries import *"
   ]
  },
  {
   "cell_type": "code",
   "execution_count": 2,
   "id": "0eb69e9c",
   "metadata": {
    "scrolled": false
   },
   "outputs": [
    {
     "name": "stderr",
     "output_type": "stream",
     "text": [
      "* Owlready2 * WARNING: DataProperty http://xmlns.com/foaf/0.1/name belongs to more than one entity types: [owl.AnnotationProperty, owl.DatatypeProperty]; I'm trying to fix it...\n",
      "* Owlready2 * Running HermiT...\n",
      "    java -Xmx2000M -cp C:\\Users\\chern\\anaconda3\\envs\\catalysis\\lib\\site-packages\\owlready2\\hermit;C:\\Users\\chern\\anaconda3\\envs\\catalysis\\lib\\site-packages\\owlready2\\hermit\\HermiT.jar org.semanticweb.HermiT.cli.CommandLine -c -O -D -I file:///C:/Users/chern/AppData/Local/Temp/tmp6upub3jm\n",
      "* Owlready2 * HermiT took 90.93685531616211 seconds\n",
      "* Owlready * Reparenting obo.RO_0000087: {obo.RO_0000053, owl.ObjectProperty} => {obo.RO_0000053}\n",
      "* Owlready * Reparenting obo.RO_0000085: {obo.RO_0000053, owl.ObjectProperty} => {obo.RO_0000053}\n",
      "* Owlready * Reparenting property.AFX_0002855: {property.AFX_0002699, owl.ObjectProperty} => {property.AFX_0002699}\n",
      "* Owlready * Reparenting property.AFX_0002686: {property.AFX_0002718, owl.ObjectProperty} => {property.AFX_0002718}\n",
      "* Owlready * Reparenting obo.RO_0000052: {obo.RO_0002314, owl.ObjectProperty} => {obo.RO_0002314}\n",
      "* Owlready * Reparenting obo.RO_0002215: {obo.RO_0002216, owl.ObjectProperty} => {obo.RO_0002216}\n",
      "* Owlready * Reparenting obo.RO_0002326: {obo.RO_0002216, owl.ObjectProperty} => {obo.RO_0002216}\n",
      "* Owlready * Reparenting property.AFX_0000834: {owl.ObjectProperty} => {property.AFX_0002802}\n",
      "* Owlready * Reparenting property.AFX_0002684: {property.AFX_0002802, owl.ObjectProperty} => {property.AFX_0002802}\n",
      "* Owlready * Reparenting obo.RO_0002344: {obo.RO_0002337, owl.ObjectProperty} => {obo.RO_0002337}\n",
      "* Owlready * Reparenting obo.RO_0002341: {obo.RO_0002337, owl.ObjectProperty} => {obo.RO_0002337}\n",
      "* Owlready * Reparenting property.AFX_0000365: {property.AFX_0002793, owl.ObjectProperty} => {property.AFX_0002793}\n",
      "* Owlready * Reparenting obo.OBI_0000643: {property.AFX_0002793, owl.TransitiveProperty, owl.ObjectProperty} => {property.AFX_0002793}\n",
      "* Owlready * Reparenting obo.RO_0002525: {obo.BFO_0000050, obo.RO_0002526, owl.TransitiveProperty, obo.RO_0002523, owl.ObjectProperty} => {obo.BFO_0000050, obo.RO_0002526, obo.RO_0002523}\n",
      "* Owlready * Reparenting obo.RO_0002219: {obo.RO_0002220, owl.ObjectProperty} => {obo.RO_0002220}\n",
      "* Owlready * Reparenting obo.RO_0002212: {obo.RO_0002211, obo.RO_0002305, owl.ObjectProperty} => {obo.RO_0002211, obo.RO_0002305}\n",
      "* Owlready * Reparenting obo.RO_0002213: {obo.RO_0002304, obo.RO_0002211, owl.ObjectProperty} => {obo.RO_0002304, obo.RO_0002211}\n",
      "* Owlready * Reparenting obo.RO_0002083: {obo.RO_0002081, owl.TransitiveProperty, owl.ObjectProperty} => {obo.RO_0002081, owl.TransitiveProperty}\n",
      "* Owlready * Reparenting obo.RO_0002082: {obo.RO_0002081, owl.TransitiveProperty, owl.ObjectProperty} => {obo.RO_0002081, owl.TransitiveProperty}\n",
      "* Owlready * Reparenting property.AFX_0002839: {property.AFX_0002837, owl.ObjectProperty} => {property.AFX_0002837}\n",
      "* Owlready * Reparenting property.AFX_0002838: {property.AFX_0002837, owl.ObjectProperty} => {property.AFX_0002837}\n",
      "* Owlready * Reparenting obo.RO_0002264: {obo.RO_0002500, owl.ObjectProperty} => {obo.RO_0002500}\n",
      "* Owlready * Reparenting obo.RO_0002216: {obo.RO_0002328, obo.RO_0002500, owl.ObjectProperty} => {obo.RO_0002328, obo.RO_0002500}\n",
      "* Owlready * Reparenting property.AFX_0002725: {property.AFX_0002722, owl.ObjectProperty} => {property.AFX_0002722}\n",
      "* Owlready * Reparenting obo.RO_0003304: {obo.RO_0003302, owl.ObjectProperty} => {obo.RO_0003302}\n",
      "* Owlready * Reparenting obo.RO_0003303: {obo.RO_0003302, owl.ObjectProperty} => {obo.RO_0003302}\n",
      "* Owlready * Reparenting property.AFX_0002724: {property.AFX_0002723, owl.ObjectProperty} => {property.AFX_0002723}\n",
      "* Owlready * Reparenting obo.RO_0002338: {obo.RO_0002344, owl.ObjectProperty} => {obo.RO_0002344}\n",
      "* Owlready * Reparenting obo.RO_0002342: {obo.RO_0002344, owl.ObjectProperty} => {obo.RO_0002344}\n",
      "* Owlready * Reparenting obo.RO_0002339: {obo.RO_0002344, owl.ObjectProperty} => {obo.RO_0002344}\n",
      "* Owlready * Reparenting core.narrower: {core.narrowerTransitive, owl.ObjectProperty} => {core.narrowerTransitive}\n",
      "* Owlready * Reparenting property.AFX_0002703: {obo.BFO_0000133, owl.ObjectProperty} => {obo.BFO_0000133}\n",
      "* Owlready * Reparenting obo.RO_0002584: {obo.RO_0002328, obo.RO_0002595, owl.ObjectProperty} => {obo.RO_0002595, obo.RO_0002328}\n",
      "* Owlready * Reparenting obo.RO_0002500: {obo.RO_0002595, owl.ObjectProperty} => {obo.RO_0002595}\n",
      "* Owlready * Reparenting obo.RO_0002336: {obo.RO_0002334, owl.ObjectProperty} => {obo.RO_0002334}\n",
      "* Owlready * Reparenting obo.RO_0002335: {obo.RO_0002334, owl.ObjectProperty} => {obo.RO_0002334}\n",
      "* Owlready * Reparenting obo.RO_0002524: {obo.RO_0002526, obo.RO_0002522, owl.TransitiveProperty, obo.BFO_0000051, owl.ObjectProperty} => {obo.RO_0002526, obo.BFO_0000051, obo.RO_0002522}\n",
      "* Owlready * Reparenting obo.BFO_0000184: {obo.BFO_0000066, owl.InverseFunctionalProperty, owl.ObjectProperty} => {obo.BFO_0000066, owl.InverseFunctionalProperty}\n",
      "* Owlready * Reparenting property.AFX_0002720: {owl.AsymmetricProperty, owl.IrreflexiveProperty, obo.RO_0002350, owl.ObjectProperty} => {obo.RO_0002350}\n",
      "* Owlready * Reparenting property.AFX_0002835: {property.AFX_0002833, owl.ObjectProperty} => {property.AFX_0002833}\n",
      "* Owlready * Reparenting obo.RO_0002000: {obo.RO_0002323, owl.ObjectProperty} => {obo.RO_0002323}\n",
      "* Owlready * Reparenting obo.RO_0002150: {obo.RO_0002323, owl.ObjectProperty} => {obo.RO_0002323}\n",
      "* Owlready * Reparenting obo.RO_0002131: {obo.RO_0002323, owl.ObjectProperty} => {obo.RO_0002323}\n",
      "* Owlready * Reparenting obo.RO_0002170: {obo.RO_0002323, owl.ObjectProperty} => {obo.RO_0002323}\n",
      "* Owlready * Reparenting obo.RO_0002177: {obo.RO_0002323, owl.ObjectProperty} => {obo.RO_0002323}\n",
      "* Owlready * Reparenting obo.RO_0002163: {obo.RO_0002323, owl.ObjectProperty} => {obo.RO_0002323}\n",
      "* Owlready * Reparenting obo.RO_0002176: {obo.RO_0002323, owl.ObjectProperty} => {obo.RO_0002323}\n",
      "* Owlready * Reparenting obo.RO_0002515: {obo.RO_0002527, owl.ObjectProperty} => {obo.RO_0002527}\n",
      "* Owlready * Reparenting obo.RO_0002518: {obo.RO_0002524, owl.TransitiveProperty, owl.ObjectProperty} => {obo.RO_0002524}\n",
      "* Owlready * Reparenting obo.RO_0002566: {obo.RO_0002506, owl.ObjectProperty} => {obo.RO_0002506}\n",
      "* Owlready * Reparenting obo.RO_0002559: {obo.RO_0002506, owl.ObjectProperty} => {obo.RO_0002506}\n",
      "* Owlready * Reparenting obo.RO_0002509: {obo.RO_0002131, obo.RO_0002506, owl.ObjectProperty} => {obo.RO_0002131, obo.RO_0002506}\n",
      "* Owlready * Reparenting obo.RO_0002530: {obo.RO_0002529, obo.RO_0002515, owl.ObjectProperty} => {obo.RO_0002529, obo.RO_0002515}\n",
      "* Owlready * Reparenting property.AFX_0002689: {property.AFX_0002686, owl.ObjectProperty} => {property.AFX_0002686}\n",
      "* Owlready * Reparenting property.AFX_0002687: {property.AFX_0002686, owl.ObjectProperty} => {property.AFX_0002686}\n",
      "* Owlready * Reparenting property.AFX_0002688: {property.AFX_0002686, owl.ObjectProperty} => {property.AFX_0002686}\n",
      "* Owlready * Reparenting property.AFX_0000072: {property.AFX_0002686, owl.ObjectProperty} => {property.AFX_0002686}\n",
      "* Owlready * Reparenting property.AFX_0000974: {property.AFX_0000972, owl.TransitiveProperty, owl.ObjectProperty} => {property.AFX_0000972}\n",
      "* Owlready * Reparenting obo.RO_0002220: {obo.RO_0002163, owl.ObjectProperty} => {obo.RO_0002163}\n",
      "* Owlready * Reparenting obo.RO_0002223: {obo.BFO_0000050, obo.RO_0002222, owl.ObjectProperty} => {obo.BFO_0000050, obo.RO_0002222}\n",
      "* Owlready * Reparenting obo.BFO_0000132: {obo.BFO_0000050, obo.RO_0002222, owl.TransitiveProperty, owl.ObjectProperty} => {obo.BFO_0000050, obo.RO_0002222}\n",
      "* Owlready * Reparenting obo.RO_0002507: {obo.BFO_0000050, obo.RO_0002509, obo.RO_0002559, owl.ObjectProperty} => {obo.BFO_0000050, obo.RO_0002509, obo.RO_0002559}\n",
      "* Owlready * Reparenting obo.RO_0002229: {obo.BFO_0000050, obo.RO_0002222, owl.ObjectProperty} => {obo.BFO_0000050, obo.RO_0002222}\n",
      "* Owlready * Reparenting obo.RO_0002012: {obo.BFO_0000050, obo.RO_0002418, owl.ObjectProperty} => {obo.BFO_0000050, obo.RO_0002418}\n",
      "* Owlready * Reparenting property.AFX_0000553: {property.AFX_0000354, owl.ObjectProperty} => {property.AFX_0000354}\n",
      "* Owlready * Reparenting core.related: {core.semanticRelation, owl.SymmetricProperty, owl.ObjectProperty} => {owl.SymmetricProperty, core.semanticRelation}\n",
      "* Owlready * Reparenting core.broaderTransitive: {core.semanticRelation, owl.TransitiveProperty, owl.ObjectProperty} => {owl.TransitiveProperty, core.semanticRelation}\n",
      "* Owlready * Reparenting core.mappingRelation: {core.semanticRelation, owl.ObjectProperty} => {core.semanticRelation}\n",
      "* Owlready * Reparenting property.AFX_0002847: {property.AFX_0002846, owl.ObjectProperty} => {property.AFX_0002846}\n",
      "* Owlready * Reparenting property.AFX_0000939: {property.AFX_0002846, owl.TransitiveProperty, owl.ObjectProperty} => {property.AFX_0002846}\n",
      "* Owlready * Reparenting property.AFX_0002845: {property.AFX_0002846, owl.ObjectProperty} => {property.AFX_0002846}\n",
      "* Owlready * Reparenting obo.RO_0002607: {obo.RO_0002610, owl.ObjectProperty} => {obo.RO_0002610}\n",
      "* Owlready * Reparenting obo.RO_0002331: {obo.RO_0002431, owl.ObjectProperty} => {obo.RO_0002431}\n",
      "* Owlready * Reparenting obo.RO_0002428: {obo.RO_0002431, obo.RO_0002263, owl.ObjectProperty} => {obo.RO_0002263, obo.RO_0002431}\n",
      "* Owlready * Reparenting property.AFX_0002801: {property.AFX_0002803, owl.ObjectProperty} => {property.AFX_0002803}\n",
      "* Owlready * Reparenting property.AFX_0002696: {property.AFX_0002803, owl.ObjectProperty} => {property.AFX_0002803}\n",
      "* Owlready * Reparenting obo.RO_0002462: {obo.RO_0002461, owl.ObjectProperty} => {obo.RO_0002461}\n",
      "* Owlready * Reparenting obo.RO_0002463: {obo.RO_0002461, owl.ObjectProperty} => {obo.RO_0002461}\n",
      "* Owlready * Reparenting obo.RO_0002332: {obo.RO_0000057, owl.ObjectProperty} => {obo.RO_0000057}\n",
      "* Owlready * Reparenting property.AFX_0000197: {obo.RO_0000057, owl.ObjectProperty} => {obo.RO_0000057}\n",
      "* Owlready * Reparenting obo.RO_0002218: {obo.RO_0000057, owl.ObjectProperty} => {obo.RO_0000057}\n",
      "* Owlready * Reparenting property.AFX_0002876: {obo.RO_0000057, owl.ObjectProperty} => {obo.RO_0000057}\n",
      "* Owlready * Reparenting property.AFX_0002745: {obo.RO_0000057, owl.ObjectProperty} => {obo.RO_0000057}\n",
      "* Owlready * Reparenting property.AFX_0002750: {obo.RO_0000057, owl.ObjectProperty} => {obo.RO_0000057}\n",
      "* Owlready * Reparenting obo.RO_0002505: {obo.RO_0000057, owl.ObjectProperty} => {obo.RO_0000057}\n",
      "* Owlready * Reparenting obo.RO_0002526: {obo.RO_0002131, obo.RO_0002514, owl.ObjectProperty} => {obo.RO_0002131, obo.RO_0002514}\n",
      "* Owlready * Reparenting obo.RO_0002527: {obo.RO_0002514, owl.SymmetricProperty, owl.ObjectProperty} => {obo.RO_0002514, owl.SymmetricProperty}\n",
      "* Owlready * Reparenting obo.RO_0002522: {owl.TransitiveProperty, obo.RO_0002514, owl.ObjectProperty} => {owl.TransitiveProperty, obo.RO_0002514}\n",
      "* Owlready * Reparenting obo.RO_0002570: {obo.RO_0002131, owl.ObjectProperty} => {obo.RO_0002131}\n",
      "* Owlready * Reparenting obo.BFO_0000051: {obo.RO_0002131, owl.TransitiveProperty, owl.ObjectProperty} => {obo.RO_0002131, owl.TransitiveProperty}\n",
      "* Owlready * Reparenting obo.RO_0002379: {obo.RO_0002131, owl.ObjectProperty} => {obo.RO_0002131}\n",
      "* Owlready * Reparenting obo.RO_0002519: {obo.RO_0002525, owl.TransitiveProperty, owl.ObjectProperty} => {obo.RO_0002525}\n",
      "* Owlready * Reparenting property.AFX_0002748: {property.AFX_0000399, owl.ObjectProperty} => {property.AFX_0000399}\n",
      "* Owlready * Reparenting property.AFX_0000542: {property.AFX_0000399, owl.ObjectProperty} => {property.AFX_0000399}\n",
      "* Owlready * Reparenting property.AFX_0000696: {property.AFX_0000399, owl.ObjectProperty} => {property.AFX_0000399}\n",
      "* Owlready * Reparenting obo.BFO_0000139: {obo.BFO_0000132, owl.TransitiveProperty, owl.ObjectProperty} => {obo.BFO_0000132}\n",
      "* Owlready * Reparenting obo.RO_0002211: {obo.RO_0002418, owl.ObjectProperty} => {obo.RO_0002418}\n",
      "* Owlready * Reparenting obo.RO_0002411: {obo.BFO_0000063, obo.RO_0002418, owl.ObjectProperty} => {obo.BFO_0000063, obo.RO_0002418}\n",
      "* Owlready * Reparenting property.AFX_0002731: {property.AFX_0000388, owl.ObjectProperty} => {property.AFX_0000388}\n",
      "* Owlready * Reparenting obo.RO_0002333: {obo.RO_0002328, owl.ObjectProperty} => {obo.RO_0002328}\n",
      "* Owlready * Reparenting obo.RO_0002431: {obo.RO_0002328, obo.RO_0002264, obo.RO_0002500, owl.ObjectProperty} => {obo.RO_0002328, obo.RO_0002264}\n",
      "* Owlready * Reparenting obo.RO_0003302: {obo.RO_0002410, owl.ObjectProperty} => {obo.RO_0002410}\n",
      "* Owlready * Reparenting obo.RO_0002595: {obo.RO_0002410, owl.ObjectProperty} => {obo.RO_0002410}\n",
      "* Owlready * Reparenting obo.RO_0002506: {obo.RO_0002410, owl.ObjectProperty} => {obo.RO_0002410}\n",
      "* Owlready * Reparenting obo.RO_0002501: {obo.RO_0002410, owl.TransitiveProperty, owl.ObjectProperty} => {owl.TransitiveProperty, obo.RO_0002410}\n",
      "* Owlready * Reparenting property.AFX_0000558: {property.AFX_0000331, owl.ObjectProperty} => {property.AFX_0000331}\n",
      "* Owlready * Reparenting property.AFX_0000557: {property.AFX_0000331, owl.ObjectProperty} => {property.AFX_0000331}\n",
      "* Owlready * Reparenting obo.RO_0002091: {obo.RO_0002222, owl.ObjectProperty} => {obo.RO_0002222}\n",
      "* Owlready * Reparenting obo.RO_0002230: {obo.RO_0002222, obo.BFO_0000051, owl.TransitiveProperty, owl.ObjectProperty} => {obo.RO_0002222, obo.BFO_0000051}\n",
      "* Owlready * Reparenting obo.RO_0002086: {obo.RO_0002222, owl.TransitiveProperty, owl.ObjectProperty} => {obo.RO_0002222, owl.TransitiveProperty}\n",
      "* Owlready * Reparenting obo.BFO_0000117: {obo.RO_0002222, obo.BFO_0000051, owl.TransitiveProperty, owl.ObjectProperty} => {obo.RO_0002222, obo.BFO_0000051}\n",
      "* Owlready * Reparenting obo.RO_0002081: {obo.RO_0002222, owl.ObjectProperty} => {obo.RO_0002222}\n",
      "* Owlready * Reparenting obo.BFO_0000063: {obo.RO_0002222, owl.TransitiveProperty, owl.ObjectProperty} => {obo.RO_0002222, owl.TransitiveProperty}\n",
      "* Owlready * Reparenting obo.RO_0002089: {obo.RO_0002222, owl.TransitiveProperty, owl.ObjectProperty} => {obo.RO_0002222, owl.TransitiveProperty}\n",
      "* Owlready * Reparenting core.broadMatch: {core.broader, core.mappingRelation, owl.ObjectProperty} => {core.broader, core.mappingRelation}\n",
      "* Owlready * Reparenting obo.RO_0002263: {obo.RO_0002264, owl.ObjectProperty} => {obo.RO_0002264}\n",
      "* Owlready * Reparenting obo.BFO_0000077: {obo.BFO_0000057, owl.ObjectProperty} => {obo.BFO_0000057}\n",
      "* Owlready * Reparenting property.AFX_0002717: {obo.IAO_0000219, owl.ObjectProperty} => {obo.IAO_0000219}\n",
      "* Owlready * Reparenting property.AFX_0002690: {property.AFX_0002684, owl.ObjectProperty} => {property.AFX_0002684}\n",
      "* Owlready * Reparenting property.AFX_0002718: {property.AFX_0002684, owl.ObjectProperty} => {property.AFX_0002684}\n",
      "* Owlready * Reparenting obo.RO_0002430: {obo.RO_0002428, owl.ObjectProperty} => {obo.RO_0002428}\n",
      "* Owlready * Reparenting obo.RO_0002429: {obo.RO_0002428, owl.ObjectProperty} => {obo.RO_0002428}\n",
      "* Owlready * Reparenting property.AFX_0000940: {obo.BFO_0000051, owl.ObjectProperty} => {obo.BFO_0000051}\n",
      "* Owlready * Reparenting obo.RO_0002180: {obo.BFO_0000051, owl.ObjectProperty} => {obo.BFO_0000051}\n",
      "* Owlready * Reparenting core.exactMatch: {core.closeMatch, owl.TransitiveProperty, owl.SymmetricProperty, owl.ObjectProperty} => {core.closeMatch, owl.TransitiveProperty}\n",
      "* Owlready * Reparenting property.AFX_0002878: {property.AFX_0002730, owl.ObjectProperty} => {property.AFX_0002730}\n",
      "* Owlready * Reparenting core.closeMatch: {core.mappingRelation, owl.SymmetricProperty, owl.ObjectProperty} => {owl.SymmetricProperty, core.mappingRelation}\n",
      "* Owlready * Reparenting obo.RO_0002404: {obo.RO_0002427, obo.BFO_0000062, owl.ObjectProperty} => {obo.RO_0002427, obo.BFO_0000062}\n",
      "* Owlready * Reparenting obo.RO_0002334: {obo.RO_0002427, owl.TransitiveProperty, owl.ObjectProperty} => {obo.RO_0002427}\n",
      "* Owlready * Reparenting obo.RO_0002503: {obo.RO_0002502, owl.ObjectProperty} => {obo.RO_0002502}\n",
      "* Owlready * Reparenting obo.RO_0002314: {obo.RO_0002502, owl.ObjectProperty} => {obo.RO_0002502}\n",
      "* Owlready * Reparenting property.AFX_0002722: {obo.RO_0002502, owl.TransitiveProperty, owl.ObjectProperty} => {obo.RO_0002502, owl.TransitiveProperty}\n",
      "* Owlready * Reparenting obo.RO_0000092: {obo.RO_0000052, owl.ObjectProperty} => {obo.RO_0000052}\n",
      "* Owlready * Reparenting obo.RO_0000081: {obo.RO_0000052, owl.ObjectProperty} => {obo.RO_0000052}\n",
      "* Owlready * Reparenting obo.RO_0000079: {obo.RO_0000052, owl.ObjectProperty} => {obo.RO_0000052}\n",
      "* Owlready * Reparenting obo.RO_0000080: {obo.RO_0000052, owl.ObjectProperty} => {obo.RO_0000052}\n",
      "* Owlready * Reparenting obo.RXNO_0000423: {obo.BFO_0000077, owl.ObjectProperty} => {obo.BFO_0000077}\n",
      "* Owlready * Reparenting obo.BFO_0000185: {obo.BFO_0000067, owl.InverseFunctionalProperty, owl.ObjectProperty} => {obo.BFO_0000067, owl.InverseFunctionalProperty}\n",
      "* Owlready * Reparenting property.AFX_0001178: {obo.RO_0002170, owl.ObjectProperty} => {obo.RO_0002170}\n",
      "* Owlready * Reparenting property.AFX_0001179: {obo.RO_0002170, owl.ObjectProperty} => {obo.RO_0002170}\n",
      "* Owlready * Reparenting property.AFX_0002875: {obo.RO_0000056, owl.ObjectProperty} => {obo.RO_0000056}\n",
      "* Owlready * Reparenting obo.RO_0002461: {obo.RO_0000056, owl.ObjectProperty} => {obo.RO_0000056}\n",
      "* Owlready * Reparenting property.AFX_0002863: {obo.RO_0000056, owl.ObjectProperty} => {obo.RO_0000056}\n",
      "* Owlready * Reparenting property.AFX_0000354: {obo.RO_0000056, owl.ObjectProperty} => {obo.RO_0000056}\n",
      "* Owlready * Reparenting property.AFX_0000353: {obo.RO_0000056, owl.ObjectProperty} => {obo.RO_0000056}\n",
      "* Owlready * Reparenting property.AFX_0002723: {obo.RO_0002609, owl.TransitiveProperty, owl.ObjectProperty} => {obo.RO_0002609, owl.TransitiveProperty}\n",
      "* Owlready * Reparenting obo.RO_0002410: {obo.RO_0002609, owl.ObjectProperty} => {obo.RO_0002609}\n",
      "* Owlready * Reparenting obo.RO_0002610: {obo.RO_0002609, owl.ObjectProperty} => {obo.RO_0002609}\n",
      "* Owlready * Reparenting obo.OBI_0000314: {property.AFX_0002821, owl.ObjectProperty} => {property.AFX_0002821}\n",
      "* Owlready * Reparenting property.AFX_0002834: {property.AFX_0002858, owl.TransitiveProperty, owl.ObjectProperty} => {property.AFX_0002858, owl.TransitiveProperty}\n",
      "* Owlready * Reparenting property.AFX_0002833: {property.AFX_0002858, owl.TransitiveProperty, owl.ObjectProperty} => {property.AFX_0002858, owl.TransitiveProperty}\n",
      "* Owlready * Reparenting property.AFX_0002856: {obo.IAO_0000136, owl.ObjectProperty} => {obo.IAO_0000136}\n",
      "* Owlready * Reparenting property.AFX_0002699: {obo.IAO_0000136, owl.ObjectProperty} => {obo.IAO_0000136}\n",
      "* Owlready * Reparenting property.AFX_0002806: {obo.IAO_0000136, owl.ObjectProperty} => {obo.IAO_0000136}\n",
      "* Owlready * Reparenting property.AFX_0000388: {obo.IAO_0000136, owl.ObjectProperty} => {obo.IAO_0000136}\n",
      "* Owlready * Reparenting property.AFX_0002842: {obo.IAO_0000136, owl.ObjectProperty} => {obo.IAO_0000136}\n",
      "* Owlready * Reparenting obo.IAO_0000219: {obo.IAO_0000136, owl.ObjectProperty} => {obo.IAO_0000136}\n",
      "* Owlready * Reparenting property.AFX_0002730: {obo.IAO_0000136, owl.ObjectProperty} => {obo.IAO_0000136}\n",
      "* Owlready * Reparenting property.AFX_0000355: {obo.IAO_0000136, owl.ObjectProperty} => {obo.IAO_0000136}\n",
      "* Owlready * Reparenting obo.RO_0002305: {obo.RO_0002411, owl.ObjectProperty} => {obo.RO_0002411}\n",
      "* Owlready * Reparenting obo.RO_0002304: {obo.RO_0002411, owl.ObjectProperty} => {obo.RO_0002411}\n",
      "* Owlready * Reparenting property.AFX_0000560: {property.AFX_0000314, owl.ObjectProperty} => {property.AFX_0000314}\n",
      "* Owlready * Reparenting property.AFX_0000561: {property.AFX_0000314, owl.ObjectProperty} => {property.AFX_0000314}\n",
      "* Owlready * Reparenting property.AFX_0002861: {property.AFX_0000671, owl.DatatypeProperty} => {property.AFX_0000671}\n",
      "* Owlready * Reparenting property.AFX_0001198: {property.AFX_0000604, owl.DatatypeProperty} => {property.AFX_0000604}\n",
      "* Owlready * Reparenting property.AFX_0000671: {property.AFX_0000670, owl.DatatypeProperty} => {property.AFX_0000670}\n",
      "* Owlready * Reparenting property.AFX_0000672: {property.AFX_0000670, owl.DatatypeProperty} => {property.AFX_0000670}\n",
      "* Owlready * Reparenting property.AFX_0002862: {property.AFX_0000675, owl.DatatypeProperty} => {property.AFX_0000675}\n",
      "* Owlready * Reparenting property.AFX_0000676: {property.AFX_0000674, owl.DatatypeProperty} => {property.AFX_0000674}\n",
      "* Owlready * Reparenting property.AFX_0000675: {property.AFX_0000674, owl.DatatypeProperty} => {property.AFX_0000674}\n",
      "* Owlready * Reparenting property.AFX_0001732: {property.AFX_0000690, owl.DatatypeProperty} => {property.AFX_0000690}\n",
      "* Owlready * (NB: only changes on entities loaded in Python are shown, other changes are done but not listed)\n"
     ]
    },
    {
     "name": "stdout",
     "output_type": "stream",
     "text": [
      "The afo_dataset_1-m ontology consists of following publications:\n"
     ]
    },
    {
     "data": {
      "text/html": [
       "<div>\n",
       "<style scoped>\n",
       "    .dataframe tbody tr th:only-of-type {\n",
       "        vertical-align: middle;\n",
       "    }\n",
       "\n",
       "    .dataframe tbody tr th {\n",
       "        vertical-align: top;\n",
       "    }\n",
       "\n",
       "    .dataframe thead th {\n",
       "        text-align: right;\n",
       "    }\n",
       "</style>\n",
       "<table border=\"1\" class=\"dataframe\">\n",
       "  <thead>\n",
       "    <tr style=\"text-align: right;\">\n",
       "      <th></th>\n",
       "      <th>DOI</th>\n",
       "      <th>Title</th>\n",
       "    </tr>\n",
       "  </thead>\n",
       "  <tbody>\n",
       "    <tr>\n",
       "      <th>0</th>\n",
       "      <td>10.1021/acscatal.1c02014.s001</td>\n",
       "      <td>Activity Promotion of Rh8xCoxP4 Bimetallic Phosphides in Styrene Hydroformylation: Dual Influence of Adsorption and Surface Reaction</td>\n",
       "    </tr>\n",
       "    <tr>\n",
       "      <th>1</th>\n",
       "      <td>10.1021/acscatal.0c04684.s001</td>\n",
       "      <td>Promotion of Inorganic Phosphorus on Rh Catalysts in Styrene Hydroformylation: Geometric and Electronic Effects</td>\n",
       "    </tr>\n",
       "    <tr>\n",
       "      <th>2</th>\n",
       "      <td>10.1021/jacs.1c09665.s001</td>\n",
       "      <td>Intermetallic Nanocatalyst for Highly Active Heterogeneous Hydroformylation</td>\n",
       "    </tr>\n",
       "    <tr>\n",
       "      <th>3</th>\n",
       "      <td>10.1016/j.apcata.2018.02.019</td>\n",
       "      <td>Rhodium incorporated monometallic cobalt hydrotalcite-type materials: Preparation and its applications for the hydroformylation of alkenes</td>\n",
       "    </tr>\n",
       "    <tr>\n",
       "      <th>4</th>\n",
       "      <td>10.1021/jacs.2c11075.s001</td>\n",
       "      <td>Ethene Hydroformylation Catalyzed by Rhodium Dispersed with Zinc or Cobalt in Silanol Nests of Dealuminated Zeolite Beta</td>\n",
       "    </tr>\n",
       "    <tr>\n",
       "      <th>5</th>\n",
       "      <td>10.1016/j.apcata.2013.10.019</td>\n",
       "      <td>Experimental investigation of ethylene hydroformylation to propanal on Rh and Co based catalysts</td>\n",
       "    </tr>\n",
       "    <tr>\n",
       "      <th>6</th>\n",
       "      <td>10.1016/s1381-1169(97)00035-6</td>\n",
       "      <td>Formation of bimetallic RhCo3 clusters from monometallic carbonyl clusters on SiO2 as probed by hydroformylation</td>\n",
       "    </tr>\n",
       "    <tr>\n",
       "      <th>7</th>\n",
       "      <td>10.1021/acs.iecr.0c03437.s001</td>\n",
       "      <td>Insights into the Bimetallic Effects of a RhCo Catalyst for Ethene Hydroformylation: Experimental and DFT Investigations</td>\n",
       "    </tr>\n",
       "    <tr>\n",
       "      <th>8</th>\n",
       "      <td>10.1021/acscatal.1c00705.s002</td>\n",
       "      <td>Theoretical Study of Ethylene Hydroformylation on Atomically Dispersed Rh/Al2O3 Catalysts: Reaction Mechanism and Influence of the ReOx Promoter</td>\n",
       "    </tr>\n",
       "    <tr>\n",
       "      <th>9</th>\n",
       "      <td>10.1021/acscatal.1c04359</td>\n",
       "      <td>Comparison of Heterogeneous Hydroformylation of Ethylene and Propylene over RhCo3/MCM-41 Catalysts</td>\n",
       "    </tr>\n",
       "    <tr>\n",
       "      <th>10</th>\n",
       "      <td>10.1021/acscatal.7b00499.s001</td>\n",
       "      <td>Platinum Group Metal Phosphides as Heterogeneous Catalysts for the Gas-Phase Hydroformylation of Small Olefins</td>\n",
       "    </tr>\n",
       "    <tr>\n",
       "      <th>11</th>\n",
       "      <td>10.1021/acscatal.9b02111.s001</td>\n",
       "      <td>Synthesis of Heteroatom RhReOx Atomically Dispersed Species on Al2O3 and Their Tunable Catalytic Reactivity in Ethylene Hydroformylation</td>\n",
       "    </tr>\n",
       "    <tr>\n",
       "      <th>12</th>\n",
       "      <td>10.1016/0304-5102(93)87113-m</td>\n",
       "      <td>Vapour phase propene hydroformylation catalyzed by the Rh/Al system on silica</td>\n",
       "    </tr>\n",
       "    <tr>\n",
       "      <th>13</th>\n",
       "      <td>10.1016/1381-1169(96)00243-9</td>\n",
       "      <td>Highly selective vapor phase propene hydroformylation catalyzed by RhB and RhCoB systems on silica</td>\n",
       "    </tr>\n",
       "    <tr>\n",
       "      <th>14</th>\n",
       "      <td>10.1016/s0920-5861(00)00261-3</td>\n",
       "      <td>Ethylene hydroformylation and carbon monoxide hydrogenation over modified and unmodified silica supported rhodium catalysts</td>\n",
       "    </tr>\n",
       "    <tr>\n",
       "      <th>15</th>\n",
       "      <td>10.1021/acs.iecr.9b03598.s001</td>\n",
       "      <td>Heterogeneous Ligand-Free Rhodium Oxide Catalyst Embedded within Zeolitic Microchannel to Enhance Regioselectivity in Hydroformylation</td>\n",
       "    </tr>\n",
       "    <tr>\n",
       "      <th>16</th>\n",
       "      <td>10.1021/acsami.0c21749.s001</td>\n",
       "      <td>Effectively Regulating the Microenvironment of Atomically Dispersed Rh through Co and Pi to Promote the Selectivity in Olefin Hydroformylation</td>\n",
       "    </tr>\n",
       "    <tr>\n",
       "      <th>17</th>\n",
       "      <td>10.1021/acsanm.1c02194.s001</td>\n",
       "      <td>Rh2P Nanoparticles Stabilized by Carbon Patches for Hydroformylation of Olefins</td>\n",
       "    </tr>\n",
       "  </tbody>\n",
       "</table>\n",
       "</div>"
      ],
      "text/plain": [
       "                              DOI  \\\n",
       "0   10.1021/acscatal.1c02014.s001   \n",
       "1   10.1021/acscatal.0c04684.s001   \n",
       "2       10.1021/jacs.1c09665.s001   \n",
       "3    10.1016/j.apcata.2018.02.019   \n",
       "4       10.1021/jacs.2c11075.s001   \n",
       "5    10.1016/j.apcata.2013.10.019   \n",
       "6   10.1016/s1381-1169(97)00035-6   \n",
       "7   10.1021/acs.iecr.0c03437.s001   \n",
       "8   10.1021/acscatal.1c00705.s002   \n",
       "9        10.1021/acscatal.1c04359   \n",
       "10  10.1021/acscatal.7b00499.s001   \n",
       "11  10.1021/acscatal.9b02111.s001   \n",
       "12   10.1016/0304-5102(93)87113-m   \n",
       "13   10.1016/1381-1169(96)00243-9   \n",
       "14  10.1016/s0920-5861(00)00261-3   \n",
       "15  10.1021/acs.iecr.9b03598.s001   \n",
       "16    10.1021/acsami.0c21749.s001   \n",
       "17    10.1021/acsanm.1c02194.s001   \n",
       "\n",
       "                                                                                                                                               Title  \n",
       "0               Activity Promotion of Rh8xCoxP4 Bimetallic Phosphides in Styrene Hydroformylation: Dual Influence of Adsorption and Surface Reaction  \n",
       "1                                    Promotion of Inorganic Phosphorus on Rh Catalysts in Styrene Hydroformylation: Geometric and Electronic Effects  \n",
       "2                                                                        Intermetallic Nanocatalyst for Highly Active Heterogeneous Hydroformylation  \n",
       "3         Rhodium incorporated monometallic cobalt hydrotalcite-type materials: Preparation and its applications for the hydroformylation of alkenes  \n",
       "4                           Ethene Hydroformylation Catalyzed by Rhodium Dispersed with Zinc or Cobalt in Silanol Nests of Dealuminated Zeolite Beta  \n",
       "5                                                   Experimental investigation of ethylene hydroformylation to propanal on Rh and Co based catalysts  \n",
       "6                                   Formation of bimetallic RhCo3 clusters from monometallic carbonyl clusters on SiO2 as probed by hydroformylation  \n",
       "7                           Insights into the Bimetallic Effects of a RhCo Catalyst for Ethene Hydroformylation: Experimental and DFT Investigations  \n",
       "8   Theoretical Study of Ethylene Hydroformylation on Atomically Dispersed Rh/Al2O3 Catalysts: Reaction Mechanism and Influence of the ReOx Promoter  \n",
       "9                                                 Comparison of Heterogeneous Hydroformylation of Ethylene and Propylene over RhCo3/MCM-41 Catalysts  \n",
       "10                                    Platinum Group Metal Phosphides as Heterogeneous Catalysts for the Gas-Phase Hydroformylation of Small Olefins  \n",
       "11          Synthesis of Heteroatom RhReOx Atomically Dispersed Species on Al2O3 and Their Tunable Catalytic Reactivity in Ethylene Hydroformylation  \n",
       "12                                                                     Vapour phase propene hydroformylation catalyzed by the Rh/Al system on silica  \n",
       "13                                               Highly selective vapor phase propene hydroformylation catalyzed by RhB and RhCoB systems on silica  \n",
       "14                       Ethylene hydroformylation and carbon monoxide hydrogenation over modified and unmodified silica supported rhodium catalysts  \n",
       "15            Heterogeneous Ligand-Free Rhodium Oxide Catalyst Embedded within Zeolitic Microchannel to Enhance Regioselectivity in Hydroformylation  \n",
       "16    Effectively Regulating the Microenvironment of Atomically Dispersed Rh through Co and Pi to Promote the Selectivity in Olefin Hydroformylation  \n",
       "17                                                                   Rh2P Nanoparticles Stabilized by Carbon Patches for Hydroformylation of Olefins  "
      ]
     },
     "metadata": {},
     "output_type": "display_data"
    }
   ],
   "source": [
    "#load the ontology from \"./ontologies/\" and perform reasoning\n",
    "onto_name= \"afo_dataset_1-m\" #input name of the ontology\n",
    "\n",
    "#perform reasoning, get dois from publications in the extended ontology\n",
    "onto_pub_list,onto,df=reasoning_dois_onto(onto_name)\n",
    "\n",
    "pd.set_option('display.max_rows', None)\n",
    "pd.set_option('display.max_columns', None)\n",
    "pd.set_option('display.width', None)\n",
    "pd.set_option('display.max_colwidth', None)\n",
    " \n",
    "display(df)\n"
   ]
  },
  {
   "cell_type": "markdown",
   "id": "2e8b6797",
   "metadata": {},
   "source": [
    "define DOI if only publications similar to specific publication in ontology should be queried from scopus\\\n",
    "if all publications in ontology should be used for query define the variable as:\\\n",
    "`doi = None`"
   ]
  },
  {
   "cell_type": "code",
   "execution_count": 3,
   "id": "6877ea8a",
   "metadata": {},
   "outputs": [],
   "source": [
    "doi = r'10.1021/acscatal.1c04359' "
   ]
  },
  {
   "cell_type": "markdown",
   "id": "134f2893",
   "metadata": {},
   "source": [
    "Retrieve an abstract of the specific publication in the ontology given the DOI of the publication "
   ]
  },
  {
   "cell_type": "code",
   "execution_count": 4,
   "id": "619531a9",
   "metadata": {},
   "outputs": [
    {
     "name": "stdout",
     "output_type": "stream",
     "text": [
      "Abstract: The reaction mechanisms of heterogeneous hydro- formylation of ethylene and propylene were compared at 413−453 K using RhCo3/MCM-41 as catalysts. The reaction rates of propylene for both hydroformylation and the undesired side reaction of hydrogenation were found to be about one order of magnitude lower than those for ethylene in ﬂow reactor studies. The diﬀerence in the kinetic behavior between ethylene and propylene was investigated by measuring the reaction orders and apparent activation energies, and these macrokinetic observables were analyzed using the degree of rate control (DRC) method. In situ diﬀuse reﬂectance infrared Fourier transform spectroscopy (DRIFTS) experiments were performed to characterize the surface intermediates formed during the reactions. When the reactant was changed from ethylene to propylene, the IR peak corresponding to adsorbed CO exhibited a signiﬁcant increase, while the IR peaks of the alkyl group decreased in magnitude. Combined with the DRIFTS results, DRC analysis indicates that the ﬁrst step of oleﬁn hydroformylation, the formation of an alkyl group on the catalyst surface, plays a key role in the diﬀerence between ethylene and propylene. This step is kinetically nonrelevant when ethylene is the reactant, but it is one of the rate-controlling steps for propylene. The low concentration of the adsorbed propyl group, which is a common intermediate shared by both hydroformylation and hydrogenation of propylene, decreases the rates of both reaction pathways as compared to ethylene. KEYWORDS: hydroformylation, ethylene, propylene, kinetics, degree of rate control\n"
     ]
    }
   ],
   "source": [
    "doi_1=r'10.1021/acscatal.1c04359'\n",
    "abstract=get_abstr(doi_1)"
   ]
  },
  {
   "cell_type": "markdown",
   "id": "cddceda8",
   "metadata": {},
   "source": [
    "Following cells represent possible queries for reactions\n",
    "\n",
    "- get list of all reactions for corresponding doi or from all publications if doi=None"
   ]
  },
  {
   "cell_type": "code",
   "execution_count": 5,
   "id": "3d3fdfae",
   "metadata": {
    "scrolled": true
   },
   "outputs": [
    {
     "name": "stdout",
     "output_type": "stream",
     "text": [
      "['heterogeneous hydroformylation', 'hydroformylation', 'hydrogenation']\n"
     ]
    }
   ],
   "source": [
    "list_reac_doi,_ = get_reaction(reac=None,doi=doi,include_all=False) #doi=None (if from all publications)\n",
    "reac_all = [*set([i[0].lower() for i in list_reac_doi])]\n",
    "print(reac_all)"
   ]
  },
  {
   "cell_type": "markdown",
   "id": "660cf5a2",
   "metadata": {},
   "source": [
    "- get the list of all publications in ontology where same reactions as in input publication were mentioned"
   ]
  },
  {
   "cell_type": "code",
   "execution_count": 6,
   "id": "f03d0f44",
   "metadata": {},
   "outputs": [
    {
     "name": "stdout",
     "output_type": "stream",
     "text": [
      "[['hydroformylation'], ['hydrogenation'], ['heterogeneous hydroformylation']]\n",
      "[['10.1021/acscatal.1c02014.s001'], ['10.1021/acscatal.0c04684.s001'], ['10.1021/acscatal.1c00705.s002'], ['10.1021/acscatal.7b00499.s001'], ['10.1021/acscatal.9b02111.s001'], ['10.1021/jacs.1c09665.s001'], ['10.1016/j.apcata.2018.02.019'], ['10.1021/jacs.2c11075.s001'], ['10.1016/0304-5102(93)87113-m'], ['10.1016/1381-1169(96)00243-9'], ['10.1016/s0920-5861(00)00261-3'], ['10.1016/j.apcata.2013.10.019'], ['10.1016/s1381-1169(97)00035-6'], ['10.1021/acs.iecr.0c03437.s001'], ['10.1021/acs.iecr.9b03598.s001'], ['10.1021/acsami.0c21749.s001']]\n"
     ]
    }
   ],
   "source": [
    "list_reac_doi,_ = get_reaction(reac = None,doi = doi) #get list of all reactions mentioned in given doi (doi should be part of ontology)\n",
    "same_reac_doi = []\n",
    "for i in list_reac_doi:\n",
    "    reac_doi,_ = get_reaction(reac = i[0],doi = None)\n",
    "    for c in reac_doi:\n",
    "        if c not in same_reac_doi and c[0] != doi:\n",
    "            same_reac_doi.append(c)     #output example: [['10.1016/0304-5102(93)87113-m'],['10.1016/1381-1169(96)00243-9']]\n",
    "\n",
    "print(list_reac_doi)\n",
    "print(same_reac_doi)"
   ]
  },
  {
   "cell_type": "markdown",
   "id": "b247feec",
   "metadata": {},
   "source": [
    "- get the list of publications, that mention the specific reaction"
   ]
  },
  {
   "cell_type": "code",
   "execution_count": null,
   "id": "4a66f63a",
   "metadata": {},
   "outputs": [],
   "source": [
    "reac=\"hydrogenation\"\n",
    "list_reac_doi,_ = get_reaction(reac=reac,doi=None)  #output example: [['10.1016/0304-5102(93)87113-m'],['10.1016/1381-1169(96)00243-9']]\n",
    "print(list_reac_doi)"
   ]
  },
  {
   "cell_type": "markdown",
   "id": "5bff719a",
   "metadata": {},
   "source": [
    "- get list of all publications which mention the specific reaction and reactions which have this specific reaction as part of their label"
   ]
  },
  {
   "cell_type": "code",
   "execution_count": null,
   "id": "2f1a239e",
   "metadata": {},
   "outputs": [],
   "source": [
    "reac=\"hydroformylation\" #specify a reaction\n",
    "\n",
    "list_reac_doi, df_reac = get_reaction(reac=\"hydroformylation\",doi=None, include_all=True)\n",
    "\n",
    "display(df_reac)"
   ]
  },
  {
   "cell_type": "markdown",
   "id": "584c0039",
   "metadata": {},
   "source": [
    "- get list of all entities mentioned in specific publication"
   ]
  },
  {
   "cell_type": "code",
   "execution_count": null,
   "id": "83553328",
   "metadata": {},
   "outputs": [],
   "source": [
    "list_ent=get_entList(list_type='all',entity= None,doi=doi)\n",
    "print([i[1] for i in list_ent])"
   ]
  },
  {
   "cell_type": "markdown",
   "id": "8035c227",
   "metadata": {},
   "source": [
    "- get list of all extracted entities from publications in knowledge graph"
   ]
  },
  {
   "cell_type": "code",
   "execution_count": 5,
   "id": "b73264cd",
   "metadata": {},
   "outputs": [
    {
     "name": "stdout",
     "output_type": "stream",
     "text": [
      "['oxygenate', 'styrene', 'cobalt atom', '1%Co supported on Al2O3', '0.5%Co-0.5%Rh supported on Al2O3', 'M = Co', 'Co-containing catalyst', 'aluminium oxide', 'hydroformylation', 'atmospheric ethylene', 'vapour phase propene', 'ethene', 'oleﬁn', 'alkene', 'silicon dioxide', 'Rh7Co1P4 supported on SiO2', 'Rh8-xCoxP4 supported on SiO2 catalyst', 'bimetallic SiO2-supported RhCo3 cluster catalyst', 'rhodium trichloride supported on silica with lithium aluminum hydride', 'Rh supported on SiO2 catalyst', 'RhCo3 supported on SiO2', 'Rh2P supported on silica', 'Rh2P nanoparticle supported on SiO2 support material', 'phosphide(3-)', 'bimetallic phosphide', 'heterogeneous catalyst', 'Rh2P', 'Rh2P NPs', 'Rh2P nanoparticle', 'Rh2P catalyst', 'rhodium atom', 'Rh7Co1P4', 'Rh8-xCoxP4', 'Rh supported on Al catalyst with rhodium nanocrystal', 'Rh supported on Al', '5%Rh supported on Al2O3', 'Rh catalyst', 'Rh-based bimetallic catalyst', 'ligand-free rhodium nanoparticle catalyst', 'Rh-based atomically dispersed catalyst', 'Rh supported on ZnO modiﬁed with Pi', 'pure Rh(111)', 'Rh-containing bimetallic catalyst', 'Rh-containing bimetallic site', 'aluminium atom', 'zinc oxide', 'phosphate ion', 'lithium tetrahydroaluminate', 'propene', 'trichlororhodium', 'aldehyde', 'atmospheric hydroformylation', 'linear aldehyde', 'carbon monoxide', 'methanol', 'molybdenum trioxide', 'titanium dioxide', 'divanadium pentaoxide', 'hydrogenation', 'phenylpropionyl', 'dissociation', 'oxo(oxoscandiooxy)scandium', 'oxygen atom', 'scandium atom', 'oxo(oxomanganiooxy)manganese', 'manganese atom', 'organic oxygenate', 'ethane', 'propanal', 'propan-1-ol', 'decarbonylation', 'binary catalyst', 'monometallic catalyst', 'cobalt;rhodium', 'RhCo bimetallic catalyst', 'RhCo3 supported on MCM-41', 'CoRh-based heterogeneous catalyst', 'MCM-41', 'gas-phase hydroformylation', '1-hexene', '1-dodecene', 'Rh2O3 supported on S-1', 'supported Rh2O3 supported on S-1 catalyst', 'Rh2O3 supported on S-1-II', 'oxo(oxorhodiooxy)rhodium', 'S-1', 'S-1-II', 'oxorhodium', 'zeolite', 'silicalite-1', 'oxide', 'dealuminated BEA zeolite', 'SACs', 'rhodium phosphide', 'acylation', 'ReOx', 'rhenium atom', 'heterogeneous hydroformylation', 'late-transition-metal catalyst', 'atomically dispersed catalyst', 'single atom catalyst', 'pair site catalyst', 'Hydroformylation', 'aldehyde product', 'RhZn intermetallic nanoparticle', \"Wilkinson's catalyst\", 'RhZn', 'zinc atom', 'CoRh-HT', 'hydrogen atom']\n"
     ]
    }
   ],
   "source": [
    "list_ent=[i[1] for i in get_entList(list_type='all',entity= None,doi=None)]\n",
    "list_distinct=[]\n",
    "for i in list_ent:\n",
    "    if i not in list_distinct:\n",
    "        list_distinct.append(i)\n",
    "print(list_distinct)"
   ]
  },
  {
   "cell_type": "code",
   "execution_count": 3,
   "id": "de76d0ba",
   "metadata": {},
   "outputs": [],
   "source": [
    "doi=None"
   ]
  },
  {
   "cell_type": "markdown",
   "id": "19bae051",
   "metadata": {},
   "source": [
    "With following code the retrieval if all reactants, products, support materials, catalysts is performed, which are mentioned in one specific publication or from all publication in extended ontology (if doi=None) \n",
    "with `get_synonyms` all possible synonyms of chemical entities will be retrieved.\\\n",
    "For example from \"rhodium atom \" class, synonyms such as \"Rh\", \"rhodium\", \"45Rh\" are retrieved"
   ]
  },
  {
   "cell_type": "code",
   "execution_count": 4,
   "id": "359ae7e6",
   "metadata": {
    "scrolled": true
   },
   "outputs": [
    {
     "ename": "AttributeError",
     "evalue": "'spacy.tokens.doc.Doc' object has no attribute 'lemma_'",
     "output_type": "error",
     "traceback": [
      "\u001b[1;31m---------------------------------------------------------------------------\u001b[0m",
      "\u001b[1;31mAttributeError\u001b[0m                            Traceback (most recent call last)",
      "\u001b[1;32m~\\AppData\\Local\\Temp\\ipykernel_21708\\2458255868.py\u001b[0m in \u001b[0;36m<module>\u001b[1;34m\u001b[0m\n\u001b[0;32m      1\u001b[0m \u001b[0msup_list\u001b[0m\u001b[1;33m=\u001b[0m\u001b[0mget_support\u001b[0m\u001b[1;33m(\u001b[0m\u001b[0msup\u001b[0m\u001b[1;33m=\u001b[0m\u001b[1;32mNone\u001b[0m\u001b[1;33m,\u001b[0m\u001b[0mdoi\u001b[0m\u001b[1;33m=\u001b[0m\u001b[0mdoi\u001b[0m\u001b[1;33m)\u001b[0m\u001b[1;33m\u001b[0m\u001b[1;33m\u001b[0m\u001b[0m\n\u001b[1;32m----> 2\u001b[1;33m \u001b[0m_\u001b[0m\u001b[1;33m,\u001b[0m\u001b[0msup_all\u001b[0m\u001b[1;33m=\u001b[0m\u001b[0mget_synonyms\u001b[0m\u001b[1;33m(\u001b[0m\u001b[0msup_list\u001b[0m\u001b[1;33m)\u001b[0m\u001b[1;33m\u001b[0m\u001b[1;33m\u001b[0m\u001b[0m\n\u001b[0m\u001b[0;32m      3\u001b[0m \u001b[0mprint\u001b[0m\u001b[1;33m(\u001b[0m\u001b[1;34m'all queried synonyms of support:'\u001b[0m\u001b[1;33m)\u001b[0m\u001b[1;33m\u001b[0m\u001b[1;33m\u001b[0m\u001b[0m\n\u001b[0;32m      4\u001b[0m \u001b[0mprint\u001b[0m\u001b[1;33m(\u001b[0m\u001b[0mlist\u001b[0m\u001b[1;33m(\u001b[0m\u001b[0msup_all\u001b[0m\u001b[1;33m.\u001b[0m\u001b[0mvalues\u001b[0m\u001b[1;33m(\u001b[0m\u001b[1;33m)\u001b[0m\u001b[1;33m)\u001b[0m\u001b[1;33m)\u001b[0m\u001b[1;33m\u001b[0m\u001b[1;33m\u001b[0m\u001b[0m\n\u001b[0;32m      5\u001b[0m \u001b[1;33m\u001b[0m\u001b[0m\n",
      "\u001b[1;32m~\\Documents\\GitHub\\Abschlussarbeiten_Behr\\Chernenko\\queries.py\u001b[0m in \u001b[0;36mget_synonyms\u001b[1;34m(ent_list)\u001b[0m\n\u001b[0;32m    388\u001b[0m                     \u001b[1;32melif\u001b[0m \u001b[0mfull_name\u001b[0m \u001b[1;33m==\u001b[0m\u001b[1;32mFalse\u001b[0m \u001b[1;32mand\u001b[0m \u001b[1;33m(\u001b[0m\u001b[0mlen\u001b[0m\u001b[1;33m(\u001b[0m\u001b[0mvalue\u001b[0m\u001b[1;33m.\u001b[0m\u001b[0msplit\u001b[0m\u001b[1;33m(\u001b[0m\u001b[1;33m)\u001b[0m\u001b[1;33m)\u001b[0m \u001b[1;33m>=\u001b[0m \u001b[1;36m2\u001b[0m \u001b[1;32mor\u001b[0m \u001b[0mre\u001b[0m\u001b[1;33m.\u001b[0m\u001b[0mmatch\u001b[0m\u001b[1;33m(\u001b[0m\u001b[1;34mr'[A-Za-z]([a-z]+){3,}'\u001b[0m\u001b[1;33m,\u001b[0m \u001b[0mvalue\u001b[0m\u001b[1;33m)\u001b[0m \u001b[1;32mor\u001b[0m \u001b[0mre\u001b[0m\u001b[1;33m.\u001b[0m\u001b[0mmatch\u001b[0m\u001b[1;33m(\u001b[0m\u001b[1;34mr'[\\d,]+[—–-][A-Z]?[a-z]+'\u001b[0m\u001b[1;33m,\u001b[0m \u001b[0mvalue\u001b[0m\u001b[1;33m)\u001b[0m\u001b[1;33m)\u001b[0m\u001b[1;33m:\u001b[0m\u001b[1;33m\u001b[0m\u001b[1;33m\u001b[0m\u001b[0m\n\u001b[0;32m    389\u001b[0m                         \u001b[0mdoc\u001b[0m\u001b[1;33m=\u001b[0m\u001b[0mnlp\u001b[0m\u001b[1;33m(\u001b[0m\u001b[0mvalue\u001b[0m\u001b[1;33m)\u001b[0m\u001b[1;33m\u001b[0m\u001b[1;33m\u001b[0m\u001b[0m\n\u001b[1;32m--> 390\u001b[1;33m                         \u001b[0mdist_ent\u001b[0m\u001b[1;33m.\u001b[0m\u001b[0mappend\u001b[0m\u001b[1;33m(\u001b[0m\u001b[0mdoc\u001b[0m\u001b[1;33m.\u001b[0m\u001b[0mlemma_\u001b[0m\u001b[1;33m)\u001b[0m\u001b[1;33m\u001b[0m\u001b[1;33m\u001b[0m\u001b[0m\n\u001b[0m\u001b[0;32m    391\u001b[0m                         \u001b[0mfull_name\u001b[0m\u001b[1;33m=\u001b[0m \u001b[1;32mTrue\u001b[0m\u001b[1;33m\u001b[0m\u001b[1;33m\u001b[0m\u001b[0m\n\u001b[0;32m    392\u001b[0m                 \u001b[0ment_dict\u001b[0m\u001b[1;33m[\u001b[0m\u001b[0mk\u001b[0m\u001b[1;33m]\u001b[0m\u001b[1;33m=\u001b[0m\u001b[0mdist_ent\u001b[0m\u001b[1;33m\u001b[0m\u001b[1;33m\u001b[0m\u001b[0m\n",
      "\u001b[1;31mAttributeError\u001b[0m: 'spacy.tokens.doc.Doc' object has no attribute 'lemma_'"
     ]
    }
   ],
   "source": [
    "sup_list=get_support(sup=None,doi=doi)\n",
    "_,sup_all=get_synonyms(sup_list)\n",
    "print('all queried synonyms of support:')\n",
    "print(list(sup_all.values()))\n",
    "\n",
    "cat_list=get_catalyst(cat=None,doi=doi,include_all=True)\n",
    "_,cat_all=get_synonyms(cat_list)\n",
    "print('\\nall queried synonyms of catalytic components:')\n",
    "print(list(cat_all.values()))\n",
    "\n",
    "reactant_list=get_entList('reactant',entity= None,doi=doi)\n",
    "reactant_all,_=get_synonyms(reactant_list)\n",
    "print('\\nall queried synonyms of reactants:')\n",
    "print(reactant_all)\n",
    "\n",
    "product_list=get_entList('product',entity= None,doi=doi)\n",
    "product_all,_=get_synonyms(product_list)\n",
    "print('\\nall queried synonyms of products:')\n",
    "print(product_all)\n",
    "\n",
    "cat_list_full=get_catalyst_full(doi = doi)\n",
    "_,cat_full_all=get_synonyms(cat_list_full)\n",
    "print('\\nall queried catalyst entities:')\n",
    "print(list(cat_full_all.values()))"
   ]
  },
  {
   "cell_type": "code",
   "execution_count": null,
   "id": "459d7636",
   "metadata": {},
   "outputs": [],
   "source": [
    "sup_list=get_support(sup=None,doi=doi)\n",
    "_,sup_all=get_synonyms(sup_list)\n",
    "print('all queried synonyms of support:')\n",
    "print(list(sup_all.values()))"
   ]
  },
  {
   "cell_type": "code",
   "execution_count": null,
   "id": "835734b5",
   "metadata": {},
   "outputs": [],
   "source": [
    "sup_list"
   ]
  },
  {
   "cell_type": "code",
   "execution_count": null,
   "id": "45a4f16d",
   "metadata": {},
   "outputs": [],
   "source": [
    "sup_list=get_support(sup=None,doi=doi,only_doi= False)\n",
    "sup_cat=[]\n",
    "for i in range(len(sup_list)):\n",
    "    sup_cat.append([sup_list[i][1],sup_list[i][2]])\n",
    "print(sup_cat)"
   ]
  },
  {
   "cell_type": "markdown",
   "id": "5671fef0",
   "metadata": {},
   "source": [
    "Perform a search in scopus using collected information from ontology\\\n",
    "Queries have following structure: 'TITLE-ABS-KEY(\"reaction\"AND\"catalyst\"AND\"support material\"AND\"reactant\"AND\"product\")' in all possible combinations"
   ]
  },
  {
   "cell_type": "code",
   "execution_count": null,
   "id": "073bc1a6",
   "metadata": {},
   "outputs": [],
   "source": [
    "doi=None\n",
    "df_all=scopus_seach_process(doi, onto_pub_list)"
   ]
  },
  {
   "cell_type": "markdown",
   "id": "ab8ef1bd",
   "metadata": {},
   "source": [
    "All distinct results are saved in sheet 'distinct_eid'.\\\n",
    "Filter found publication according to the start and end date\\\n",
    "If no filtering nessesary define `start_date` as follows:\\\n",
    "`get_synonyms = None`"
   ]
  },
  {
   "cell_type": "code",
   "execution_count": null,
   "id": "27ff9212",
   "metadata": {},
   "outputs": [],
   "source": [
    "start_date = '2019-01-01'\n",
    "end_date = '2023-12-31' \n",
    "\n",
    "distinct_df, filtered_df, filtered_df_doi, filtered_df_doi_new = filter_date(start_date,end_date, df_all,onto_pub_list)"
   ]
  },
  {
   "cell_type": "markdown",
   "id": "cb390145",
   "metadata": {},
   "source": [
    "save from scopus quieried publication information in Excel"
   ]
  },
  {
   "cell_type": "code",
   "execution_count": null,
   "id": "5c7059d8",
   "metadata": {},
   "outputs": [],
   "source": [
    "output_path='./output/output.xlsx' #define the output path\n",
    "\n",
    "save_in_excel(output_path, df_all, distinct_df, filtered_df, filtered_df_doi, filtered_df_doi_new )"
   ]
  }
 ],
 "metadata": {
  "kernelspec": {
   "display_name": "Python 3 (ipykernel)",
   "language": "python",
   "name": "python3"
  },
  "language_info": {
   "codemirror_mode": {
    "name": "ipython",
    "version": 3
   },
   "file_extension": ".py",
   "mimetype": "text/x-python",
   "name": "python",
   "nbconvert_exporter": "python",
   "pygments_lexer": "ipython3",
   "version": "3.7.1"
  }
 },
 "nbformat": 4,
 "nbformat_minor": 5
}
